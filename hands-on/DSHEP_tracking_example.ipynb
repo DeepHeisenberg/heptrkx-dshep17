{
 "cells": [
  {
   "cell_type": "markdown",
   "metadata": {},
   "source": [
    "# Basic LSTM example for HEP track finding\n",
    "\n",
    "This example notebook is provided as a starting kit for the DS@HEP tracking hands-on sessions.\n",
    "\n",
    "It uses the TrackML RAMP hackathon toy data, which uses a 2D circular detector.\n",
    "Most of the content below comes directly from the starter kit that was used in the challenge."
   ]
  },
  {
   "cell_type": "markdown",
   "metadata": {},
   "source": [
    "<h2> Introduction </h2>\n",
    "\n",
    "Tracking is one of the most important tasks in a high-energy physics experiment, as it provides high-precision position and momentum information belonging to charged particles. Such information is crucial for a diverse variety of physics studies - from Standard Model tests to new particle searches - which requires robust low-level optimization without information loss which can be further refined for a narrower and more specific physics context.\n",
    "\n",
    "<h2> Quick Glossary </h2>\n",
    "\n",
    "We use the following vocabulary in the context of this challenge. It may be slightly different from the general high-energy physics context. Some terms are not used in the workbook, but kept here in case they are used in the discussions.\n",
    "\n",
    "**event**: a recorded (or simulated) collision in which many particles are present, the basic unit of particle physics data\n",
    "\n",
    "**pixel**: the smallest detector unit\n",
    "\n",
    "**hit**: a pixel through which a particle has passed and left signal in a given event\n",
    "\n",
    "**cluster**: a set of hits, belonging (or predicted to be belonging) to the trajectory of a single particle\n",
    "\n",
    "**reconstruct**: same thing as predict, but may also refer to further derived quantities\n",
    "\n",
    "**track**: a reconstructed particle, that is, a cluster but also including additional derived information, such as the overall curvature and angle\n",
    "\n",
    "**vertex**: the point close to the center of the detector, from which the particles have originated\n",
    "\n",
    "**impact parameter**: the shortest distance between a track and the origin\n",
    "\n",
    "**(momentum/angle/etc) resolution** : width of the normal distribution of the difference between a predicted quantity and the true value of that quantity\n",
    "\n",
    "<h2> Objectives </h2>\n",
    "\n",
    "The main objective of the challenge is the optimal matching of the hits in an event. The positions of the hits in the detector are provided as input data, and the user is expected to implement a clustering scheme (trained on data if needed), so that every hit is assigned to a cluster_id.\n",
    "\n",
    "The value of the cluster_id itself is not relevant for the task, what is relevant is which hits are clustered together, and whether this clustering corresponds well to the input particles. The score function that describes this is included in the notebook, and details will be mentioned there.\n",
    "\n",
    "<h2> Application </h2>\n",
    "\n",
    "The user is expected to implement the Clusterer class, which contains the __init__, fit, and predict_single_event functions.\n",
    "\n",
    "**\\__init\\__** is where parameters should be set.\n",
    "\n",
    "**fit** is the training function (not to be confused with track-fitting), where the algorithm has access to the ground-truth. This function is to be run once on an input array that contains a set of training events. The user is able to implement any event-level or particle-level segmentation of the input array in order to set up the training in any desired way.\n",
    "\n",
    "**predict_single_event** is the function to reconstruct the hit clusters (tracks), returning an array of predicted (reconstructed) ids associated to each hit in the input array. This function takes only the hits from a single event as input, with the event_id dropped, and the RAMP machinery takes care of running this function on each event.\n",
    "\n",
    "The **task** in the challenge is to implement this class in a way that the predict_single_event function returns a numpy array of assigned cluster_ids. At any level of this task, machine-learning techniques can be employed for sub-tasks defined by the user.\n",
    "\n",
    "<h2> Detector </h2>\n",
    "\n",
    "Image from the Atlas Experiment:"
   ]
  },
  {
   "cell_type": "markdown",
   "metadata": {},
   "source": [
    "<img src=\"http://atlasexperiment.org/photos/atlas_photos/selected-photos/events/atlas2009-collision-atlantis-141749-405315-hits-web.png\" alt=\"Drawing\" style=\"width: 700px;\"/>"
   ]
  },
  {
   "cell_type": "markdown",
   "metadata": {},
   "source": [
    "The data provided to the user is a list of hit positions from a simple toy detector model that mimics the Atlas detector design (which is generic enough for recent silicon-based tracking detectors). The detector has an onion-like geometry with 9 layers surrounding the origin with polar distances of R = [39,85,155,213,271,405,562,762,1000] cm.\n",
    "These layers have a very small thickness compared to the distances, therefore the thickness can be neglected.\n",
    "\n",
    "Each layer is segmented in azimuth with high granularity. There are ($2\\pi$R/pitch)+1 pixels in every layer, where pitch is 0.025 cm for layers 0-4 and 0.05 cm for layers 5-9.\n",
    "\n",
    "Every \"pixel\" corresponds to the smallest detector unit defined by **layer** and **iphi** (azimuthal index).\n",
    "\n",
    "<h2> Simulation </h2>\n",
    "\n",
    "The challenge uses a toy model for particle generation and simulation, in which a Poisson distribution is sampled to determine the number of particles in each event, with an average of 10 particles per event.\n",
    "\n",
    "The particles are sampled uniformly in azimuth and momentum, with bounds on the momentum. Each particle originates from a vertex that is also randomly sampled from a narrow normal distribution around the origin. The proper dimensions of the momentum and position and determination of these values for the tracks are beyond the scope of the challenge.\n",
    "\n",
    "The particles generated this way are simulated in a uniform magnetic field. The detector material is considered to cause multiple-scattering, and this is implemented as a random rotation of the particle momentum at every detector position, sampled from a narrow normal distribution that roughly corresponds to the material of the Atlas tracker.\n",
    "\n",
    "In addition, some hit inefficiency is simulated by a random drop of some hits (with 3% probability), and a particle stopping probability of 1% is applied at each layer to simulate effects of hadronic interactions. Keeping these in mind, the algorithms might be desired to be able to handle cases when the particle doesn't have a hit on every layer.\n",
    "\n",
    "Since the detector has a very high granularity in azimuth, the cases where two particles pass through a single pixel are neglected (less than 0.2% probability)."
   ]
  },
  {
   "cell_type": "markdown",
   "metadata": {},
   "source": [
    "## Requirements\n",
    "\n",
    "* numpy>=1.10.0  \n",
    "* matplotlib>=1.5.0 \n",
    "* pandas>=0.17.0  \n",
    "* scikit-learn>=0.17 (different syntaxes for v0.17 and v0.18)  "
   ]
  },
  {
   "cell_type": "code",
   "execution_count": 1,
   "metadata": {
    "collapsed": false
   },
   "outputs": [],
   "source": [
    "%matplotlib inline\n",
    "import numpy as np\n",
    "import matplotlib.pyplot as plt\n",
    "import pandas as pd"
   ]
  },
  {
   "cell_type": "markdown",
   "metadata": {},
   "source": [
    "## Exploratory data analysis"
   ]
  },
  {
   "cell_type": "markdown",
   "metadata": {},
   "source": [
    "### Loading the data"
   ]
  },
  {
   "cell_type": "code",
   "execution_count": 2,
   "metadata": {
    "collapsed": false
   },
   "outputs": [],
   "source": [
    "filename = \"public_train.csv\"\n",
    "df = pd.read_csv(filename)"
   ]
  },
  {
   "cell_type": "markdown",
   "metadata": {},
   "source": [
    "The data consists of the following columns:\n",
    "event_id, cluster_id, layer, iphi, x, y\n",
    "\n",
    "**event_id** (integer): The event number; particles that have the same event_id belong to the same event. Notice that the event ids are not consecutive since this is a randomly sampled subset of the full sample.\n",
    "**cluster_id** (integer): The true cluster_id corresponds to the particle that created the hits. The predicted cluster_id will correspond to the label of the cluster that is reconstructed. The value itself of the reconstructed cluster is irrelevant, only how the hits are grouped with those ids matters. The only requirement on the predicted cluster_ids is that they are non-negative for properly reconstructed clusters. A value of -1 means that hit is not associated to any cluster.\n",
    "**layer** (integer): The detector layer that the hit sits in, representing how far the hit is from the origin. The distances of the various layers were mentioned above in *Detector*.\n",
    "**iphi** (integer): The azimuthal id of the pixel along a given layer. The phi position of the hit can be determined form this value based on how many segmentations that layer has, which was described in *Detector*.\n",
    "**x** (float): The x position of the hit, in cm.\n",
    "**y** (float): The y position of the hit, in cm.\n",
    "\n",
    "Notice that the information provided in data is redundant: the **layer & iphi** and **x & y** values are translatable. It is provided this way for the sake of convenience, so be careful when you need to feed algorithms with independent variables.\n",
    "\n",
    "The array indices of the above variables may change depending on whether the event_id has been dropped or not, therefore make sure you are careful in using the index for the variable you want to pick up."
   ]
  },
  {
   "cell_type": "code",
   "execution_count": 3,
   "metadata": {
    "collapsed": false
   },
   "outputs": [
    {
     "data": {
      "text/html": [
       "<div>\n",
       "<table border=\"1\" class=\"dataframe\">\n",
       "  <thead>\n",
       "    <tr style=\"text-align: right;\">\n",
       "      <th></th>\n",
       "      <th>event_id</th>\n",
       "      <th>cluster_id</th>\n",
       "      <th>layer</th>\n",
       "      <th>iphi</th>\n",
       "      <th>x</th>\n",
       "      <th>y</th>\n",
       "    </tr>\n",
       "  </thead>\n",
       "  <tbody>\n",
       "    <tr>\n",
       "      <th>0</th>\n",
       "      <td>3</td>\n",
       "      <td>4</td>\n",
       "      <td>4</td>\n",
       "      <td>53253</td>\n",
       "      <td>53.900430</td>\n",
       "      <td>-265.585662</td>\n",
       "    </tr>\n",
       "    <tr>\n",
       "      <th>1</th>\n",
       "      <td>3</td>\n",
       "      <td>1</td>\n",
       "      <td>5</td>\n",
       "      <td>37216</td>\n",
       "      <td>-47.614439</td>\n",
       "      <td>-402.191329</td>\n",
       "    </tr>\n",
       "    <tr>\n",
       "      <th>2</th>\n",
       "      <td>3</td>\n",
       "      <td>1</td>\n",
       "      <td>0</td>\n",
       "      <td>7181</td>\n",
       "      <td>-4.253919</td>\n",
       "      <td>-38.767308</td>\n",
       "    </tr>\n",
       "    <tr>\n",
       "      <th>3</th>\n",
       "      <td>3</td>\n",
       "      <td>3</td>\n",
       "      <td>2</td>\n",
       "      <td>7937</td>\n",
       "      <td>44.418132</td>\n",
       "      <td>148.499258</td>\n",
       "    </tr>\n",
       "    <tr>\n",
       "      <th>4</th>\n",
       "      <td>3</td>\n",
       "      <td>4</td>\n",
       "      <td>0</td>\n",
       "      <td>7657</td>\n",
       "      <td>7.588600</td>\n",
       "      <td>-38.254583</td>\n",
       "    </tr>\n",
       "    <tr>\n",
       "      <th>5</th>\n",
       "      <td>3</td>\n",
       "      <td>2</td>\n",
       "      <td>7</td>\n",
       "      <td>19340</td>\n",
       "      <td>226.475161</td>\n",
       "      <td>727.566493</td>\n",
       "    </tr>\n",
       "    <tr>\n",
       "      <th>6</th>\n",
       "      <td>3</td>\n",
       "      <td>2</td>\n",
       "      <td>3</td>\n",
       "      <td>10947</td>\n",
       "      <td>60.079357</td>\n",
       "      <td>204.351342</td>\n",
       "    </tr>\n",
       "    <tr>\n",
       "      <th>7</th>\n",
       "      <td>3</td>\n",
       "      <td>2</td>\n",
       "      <td>5</td>\n",
       "      <td>10360</td>\n",
       "      <td>116.504749</td>\n",
       "      <td>387.880965</td>\n",
       "    </tr>\n",
       "    <tr>\n",
       "      <th>8</th>\n",
       "      <td>3</td>\n",
       "      <td>2</td>\n",
       "      <td>4</td>\n",
       "      <td>13908</td>\n",
       "      <td>76.915222</td>\n",
       "      <td>259.855823</td>\n",
       "    </tr>\n",
       "    <tr>\n",
       "      <th>9</th>\n",
       "      <td>3</td>\n",
       "      <td>5</td>\n",
       "      <td>2</td>\n",
       "      <td>25421</td>\n",
       "      <td>-89.080606</td>\n",
       "      <td>-126.844967</td>\n",
       "    </tr>\n",
       "    <tr>\n",
       "      <th>10</th>\n",
       "      <td>3</td>\n",
       "      <td>2</td>\n",
       "      <td>8</td>\n",
       "      <td>25252</td>\n",
       "      <td>303.343256</td>\n",
       "      <td>952.881351</td>\n",
       "    </tr>\n",
       "    <tr>\n",
       "      <th>11</th>\n",
       "      <td>3</td>\n",
       "      <td>1</td>\n",
       "      <td>6</td>\n",
       "      <td>51612</td>\n",
       "      <td>-67.634707</td>\n",
       "      <td>-557.915358</td>\n",
       "    </tr>\n",
       "    <tr>\n",
       "      <th>12</th>\n",
       "      <td>3</td>\n",
       "      <td>0</td>\n",
       "      <td>5</td>\n",
       "      <td>30498</td>\n",
       "      <td>-328.776740</td>\n",
       "      <td>-236.497051</td>\n",
       "    </tr>\n",
       "    <tr>\n",
       "      <th>13</th>\n",
       "      <td>3</td>\n",
       "      <td>2</td>\n",
       "      <td>6</td>\n",
       "      <td>14326</td>\n",
       "      <td>164.072746</td>\n",
       "      <td>537.516636</td>\n",
       "    </tr>\n",
       "    <tr>\n",
       "      <th>14</th>\n",
       "      <td>3</td>\n",
       "      <td>0</td>\n",
       "      <td>1</td>\n",
       "      <td>12805</td>\n",
       "      <td>-68.954047</td>\n",
       "      <td>-49.702510</td>\n",
       "    </tr>\n",
       "    <tr>\n",
       "      <th>15</th>\n",
       "      <td>3</td>\n",
       "      <td>5</td>\n",
       "      <td>7</td>\n",
       "      <td>62795</td>\n",
       "      <td>-425.208285</td>\n",
       "      <td>-632.330542</td>\n",
       "    </tr>\n",
       "    <tr>\n",
       "      <th>16</th>\n",
       "      <td>3</td>\n",
       "      <td>3</td>\n",
       "      <td>6</td>\n",
       "      <td>14258</td>\n",
       "      <td>167.321558</td>\n",
       "      <td>536.514209</td>\n",
       "    </tr>\n",
       "    <tr>\n",
       "      <th>17</th>\n",
       "      <td>3</td>\n",
       "      <td>2</td>\n",
       "      <td>1</td>\n",
       "      <td>4390</td>\n",
       "      <td>23.460014</td>\n",
       "      <td>81.698395</td>\n",
       "    </tr>\n",
       "    <tr>\n",
       "      <th>18</th>\n",
       "      <td>3</td>\n",
       "      <td>6</td>\n",
       "      <td>1</td>\n",
       "      <td>1073</td>\n",
       "      <td>80.802254</td>\n",
       "      <td>26.381732</td>\n",
       "    </tr>\n",
       "    <tr>\n",
       "      <th>19</th>\n",
       "      <td>3</td>\n",
       "      <td>4</td>\n",
       "      <td>3</td>\n",
       "      <td>41845</td>\n",
       "      <td>42.101953</td>\n",
       "      <td>-208.797571</td>\n",
       "    </tr>\n",
       "    <tr>\n",
       "      <th>20</th>\n",
       "      <td>3</td>\n",
       "      <td>3</td>\n",
       "      <td>7</td>\n",
       "      <td>19247</td>\n",
       "      <td>230.910779</td>\n",
       "      <td>726.170925</td>\n",
       "    </tr>\n",
       "    <tr>\n",
       "      <th>21</th>\n",
       "      <td>3</td>\n",
       "      <td>0</td>\n",
       "      <td>7</td>\n",
       "      <td>57478</td>\n",
       "      <td>-615.753064</td>\n",
       "      <td>-448.878786</td>\n",
       "    </tr>\n",
       "    <tr>\n",
       "      <th>22</th>\n",
       "      <td>3</td>\n",
       "      <td>3</td>\n",
       "      <td>4</td>\n",
       "      <td>13841</td>\n",
       "      <td>78.519856</td>\n",
       "      <td>259.375466</td>\n",
       "    </tr>\n",
       "    <tr>\n",
       "      <th>23</th>\n",
       "      <td>3</td>\n",
       "      <td>5</td>\n",
       "      <td>5</td>\n",
       "      <td>33286</td>\n",
       "      <td>-229.689404</td>\n",
       "      <td>-333.568251</td>\n",
       "    </tr>\n",
       "    <tr>\n",
       "      <th>24</th>\n",
       "      <td>3</td>\n",
       "      <td>2</td>\n",
       "      <td>2</td>\n",
       "      <td>7980</td>\n",
       "      <td>43.387164</td>\n",
       "      <td>148.803743</td>\n",
       "    </tr>\n",
       "    <tr>\n",
       "      <th>25</th>\n",
       "      <td>3</td>\n",
       "      <td>4</td>\n",
       "      <td>8</td>\n",
       "      <td>98575</td>\n",
       "      <td>214.665657</td>\n",
       "      <td>-976.687594</td>\n",
       "    </tr>\n",
       "    <tr>\n",
       "      <th>26</th>\n",
       "      <td>3</td>\n",
       "      <td>0</td>\n",
       "      <td>4</td>\n",
       "      <td>40796</td>\n",
       "      <td>-220.267647</td>\n",
       "      <td>-157.870718</td>\n",
       "    </tr>\n",
       "    <tr>\n",
       "      <th>27</th>\n",
       "      <td>3</td>\n",
       "      <td>0</td>\n",
       "      <td>6</td>\n",
       "      <td>42351</td>\n",
       "      <td>-455.354264</td>\n",
       "      <td>-329.388060</td>\n",
       "    </tr>\n",
       "    <tr>\n",
       "      <th>28</th>\n",
       "      <td>3</td>\n",
       "      <td>1</td>\n",
       "      <td>4</td>\n",
       "      <td>49832</td>\n",
       "      <td>-31.193083</td>\n",
       "      <td>-269.198796</td>\n",
       "    </tr>\n",
       "    <tr>\n",
       "      <th>29</th>\n",
       "      <td>3</td>\n",
       "      <td>0</td>\n",
       "      <td>0</td>\n",
       "      <td>5891</td>\n",
       "      <td>-31.407037</td>\n",
       "      <td>-23.121376</td>\n",
       "    </tr>\n",
       "    <tr>\n",
       "      <th>...</th>\n",
       "      <td>...</td>\n",
       "      <td>...</td>\n",
       "      <td>...</td>\n",
       "      <td>...</td>\n",
       "      <td>...</td>\n",
       "      <td>...</td>\n",
       "    </tr>\n",
       "    <tr>\n",
       "      <th>418029</th>\n",
       "      <td>19993</td>\n",
       "      <td>4</td>\n",
       "      <td>3</td>\n",
       "      <td>35548</td>\n",
       "      <td>-109.530855</td>\n",
       "      <td>-182.680026</td>\n",
       "    </tr>\n",
       "    <tr>\n",
       "      <th>418030</th>\n",
       "      <td>19993</td>\n",
       "      <td>0</td>\n",
       "      <td>0</td>\n",
       "      <td>5878</td>\n",
       "      <td>-31.598618</td>\n",
       "      <td>-22.858857</td>\n",
       "    </tr>\n",
       "    <tr>\n",
       "      <th>418031</th>\n",
       "      <td>19993</td>\n",
       "      <td>8</td>\n",
       "      <td>1</td>\n",
       "      <td>20094</td>\n",
       "      <td>79.148058</td>\n",
       "      <td>-30.993305</td>\n",
       "    </tr>\n",
       "    <tr>\n",
       "      <th>418032</th>\n",
       "      <td>19993</td>\n",
       "      <td>1</td>\n",
       "      <td>1</td>\n",
       "      <td>11809</td>\n",
       "      <td>-80.369011</td>\n",
       "      <td>-27.673490</td>\n",
       "    </tr>\n",
       "    <tr>\n",
       "      <th>418033</th>\n",
       "      <td>19993</td>\n",
       "      <td>1</td>\n",
       "      <td>4</td>\n",
       "      <td>37649</td>\n",
       "      <td>-256.241186</td>\n",
       "      <td>-88.212554</td>\n",
       "    </tr>\n",
       "    <tr>\n",
       "      <th>418034</th>\n",
       "      <td>19993</td>\n",
       "      <td>8</td>\n",
       "      <td>0</td>\n",
       "      <td>9188</td>\n",
       "      <td>36.018133</td>\n",
       "      <td>-14.956406</td>\n",
       "    </tr>\n",
       "    <tr>\n",
       "      <th>418035</th>\n",
       "      <td>19993</td>\n",
       "      <td>3</td>\n",
       "      <td>3</td>\n",
       "      <td>22262</td>\n",
       "      <td>-183.918313</td>\n",
       "      <td>107.438607</td>\n",
       "    </tr>\n",
       "    <tr>\n",
       "      <th>418036</th>\n",
       "      <td>19993</td>\n",
       "      <td>3</td>\n",
       "      <td>0</td>\n",
       "      <td>4121</td>\n",
       "      <td>-34.225940</td>\n",
       "      <td>18.697193</td>\n",
       "    </tr>\n",
       "    <tr>\n",
       "      <th>418037</th>\n",
       "      <td>19993</td>\n",
       "      <td>8</td>\n",
       "      <td>7</td>\n",
       "      <td>90772</td>\n",
       "      <td>721.613645</td>\n",
       "      <td>-244.781018</td>\n",
       "    </tr>\n",
       "    <tr>\n",
       "      <th>418038</th>\n",
       "      <td>19993</td>\n",
       "      <td>3</td>\n",
       "      <td>6</td>\n",
       "      <td>29238</td>\n",
       "      <td>-481.921338</td>\n",
       "      <td>289.129424</td>\n",
       "    </tr>\n",
       "    <tr>\n",
       "      <th>418039</th>\n",
       "      <td>19993</td>\n",
       "      <td>2</td>\n",
       "      <td>2</td>\n",
       "      <td>26875</td>\n",
       "      <td>-57.167143</td>\n",
       "      <td>-144.072613</td>\n",
       "    </tr>\n",
       "    <tr>\n",
       "      <th>418040</th>\n",
       "      <td>19993</td>\n",
       "      <td>3</td>\n",
       "      <td>5</td>\n",
       "      <td>21106</td>\n",
       "      <td>-348.217889</td>\n",
       "      <td>206.807403</td>\n",
       "    </tr>\n",
       "    <tr>\n",
       "      <th>418041</th>\n",
       "      <td>19993</td>\n",
       "      <td>7</td>\n",
       "      <td>1</td>\n",
       "      <td>263</td>\n",
       "      <td>84.745833</td>\n",
       "      <td>6.568393</td>\n",
       "    </tr>\n",
       "    <tr>\n",
       "      <th>418042</th>\n",
       "      <td>19993</td>\n",
       "      <td>5</td>\n",
       "      <td>7</td>\n",
       "      <td>43985</td>\n",
       "      <td>-737.273726</td>\n",
       "      <td>192.539484</td>\n",
       "    </tr>\n",
       "    <tr>\n",
       "      <th>418043</th>\n",
       "      <td>19993</td>\n",
       "      <td>3</td>\n",
       "      <td>1</td>\n",
       "      <td>8922</td>\n",
       "      <td>-73.870160</td>\n",
       "      <td>42.049964</td>\n",
       "    </tr>\n",
       "    <tr>\n",
       "      <th>418044</th>\n",
       "      <td>19993</td>\n",
       "      <td>2</td>\n",
       "      <td>6</td>\n",
       "      <td>48695</td>\n",
       "      <td>-208.538080</td>\n",
       "      <td>-521.877255</td>\n",
       "    </tr>\n",
       "    <tr>\n",
       "      <th>418045</th>\n",
       "      <td>19993</td>\n",
       "      <td>4</td>\n",
       "      <td>0</td>\n",
       "      <td>6481</td>\n",
       "      <td>-20.650124</td>\n",
       "      <td>-33.084322</td>\n",
       "    </tr>\n",
       "    <tr>\n",
       "      <th>418046</th>\n",
       "      <td>19993</td>\n",
       "      <td>5</td>\n",
       "      <td>1</td>\n",
       "      <td>9745</td>\n",
       "      <td>-81.796001</td>\n",
       "      <td>23.117399</td>\n",
       "    </tr>\n",
       "    <tr>\n",
       "      <th>418047</th>\n",
       "      <td>19993</td>\n",
       "      <td>8</td>\n",
       "      <td>3</td>\n",
       "      <td>50484</td>\n",
       "      <td>199.505984</td>\n",
       "      <td>-74.608059</td>\n",
       "    </tr>\n",
       "    <tr>\n",
       "      <th>418048</th>\n",
       "      <td>19993</td>\n",
       "      <td>7</td>\n",
       "      <td>7</td>\n",
       "      <td>1823</td>\n",
       "      <td>756.554871</td>\n",
       "      <td>90.932539</td>\n",
       "    </tr>\n",
       "    <tr>\n",
       "      <th>418049</th>\n",
       "      <td>19993</td>\n",
       "      <td>3</td>\n",
       "      <td>8</td>\n",
       "      <td>51798</td>\n",
       "      <td>-851.635398</td>\n",
       "      <td>524.134666</td>\n",
       "    </tr>\n",
       "    <tr>\n",
       "      <th>418050</th>\n",
       "      <td>19993</td>\n",
       "      <td>6</td>\n",
       "      <td>4</td>\n",
       "      <td>31592</td>\n",
       "      <td>-264.034747</td>\n",
       "      <td>61.046313</td>\n",
       "    </tr>\n",
       "    <tr>\n",
       "      <th>418051</th>\n",
       "      <td>19993</td>\n",
       "      <td>3</td>\n",
       "      <td>7</td>\n",
       "      <td>39562</td>\n",
       "      <td>-651.343033</td>\n",
       "      <td>395.469661</td>\n",
       "    </tr>\n",
       "    <tr>\n",
       "      <th>418052</th>\n",
       "      <td>19993</td>\n",
       "      <td>6</td>\n",
       "      <td>7</td>\n",
       "      <td>43964</td>\n",
       "      <td>-737.007716</td>\n",
       "      <td>193.555227</td>\n",
       "    </tr>\n",
       "    <tr>\n",
       "      <th>418053</th>\n",
       "      <td>19993</td>\n",
       "      <td>2</td>\n",
       "      <td>3</td>\n",
       "      <td>36936</td>\n",
       "      <td>-78.451670</td>\n",
       "      <td>-198.026098</td>\n",
       "    </tr>\n",
       "    <tr>\n",
       "      <th>418054</th>\n",
       "      <td>19993</td>\n",
       "      <td>3</td>\n",
       "      <td>4</td>\n",
       "      <td>28297</td>\n",
       "      <td>-233.659073</td>\n",
       "      <td>137.275044</td>\n",
       "    </tr>\n",
       "    <tr>\n",
       "      <th>418055</th>\n",
       "      <td>19993</td>\n",
       "      <td>6</td>\n",
       "      <td>8</td>\n",
       "      <td>57404</td>\n",
       "      <td>-963.396698</td>\n",
       "      <td>268.079843</td>\n",
       "    </tr>\n",
       "    <tr>\n",
       "      <th>418056</th>\n",
       "      <td>19993</td>\n",
       "      <td>0</td>\n",
       "      <td>2</td>\n",
       "      <td>23501</td>\n",
       "      <td>-123.499209</td>\n",
       "      <td>-93.664002</td>\n",
       "    </tr>\n",
       "    <tr>\n",
       "      <th>418057</th>\n",
       "      <td>19993</td>\n",
       "      <td>7</td>\n",
       "      <td>0</td>\n",
       "      <td>97</td>\n",
       "      <td>38.924635</td>\n",
       "      <td>2.423381</td>\n",
       "    </tr>\n",
       "    <tr>\n",
       "      <th>418058</th>\n",
       "      <td>19993</td>\n",
       "      <td>7</td>\n",
       "      <td>6</td>\n",
       "      <td>1230</td>\n",
       "      <td>558.638460</td>\n",
       "      <td>61.376466</td>\n",
       "    </tr>\n",
       "  </tbody>\n",
       "</table>\n",
       "<p>418059 rows × 6 columns</p>\n",
       "</div>"
      ],
      "text/plain": [
       "        event_id  cluster_id  layer   iphi           x           y\n",
       "0              3           4      4  53253   53.900430 -265.585662\n",
       "1              3           1      5  37216  -47.614439 -402.191329\n",
       "2              3           1      0   7181   -4.253919  -38.767308\n",
       "3              3           3      2   7937   44.418132  148.499258\n",
       "4              3           4      0   7657    7.588600  -38.254583\n",
       "5              3           2      7  19340  226.475161  727.566493\n",
       "6              3           2      3  10947   60.079357  204.351342\n",
       "7              3           2      5  10360  116.504749  387.880965\n",
       "8              3           2      4  13908   76.915222  259.855823\n",
       "9              3           5      2  25421  -89.080606 -126.844967\n",
       "10             3           2      8  25252  303.343256  952.881351\n",
       "11             3           1      6  51612  -67.634707 -557.915358\n",
       "12             3           0      5  30498 -328.776740 -236.497051\n",
       "13             3           2      6  14326  164.072746  537.516636\n",
       "14             3           0      1  12805  -68.954047  -49.702510\n",
       "15             3           5      7  62795 -425.208285 -632.330542\n",
       "16             3           3      6  14258  167.321558  536.514209\n",
       "17             3           2      1   4390   23.460014   81.698395\n",
       "18             3           6      1   1073   80.802254   26.381732\n",
       "19             3           4      3  41845   42.101953 -208.797571\n",
       "20             3           3      7  19247  230.910779  726.170925\n",
       "21             3           0      7  57478 -615.753064 -448.878786\n",
       "22             3           3      4  13841   78.519856  259.375466\n",
       "23             3           5      5  33286 -229.689404 -333.568251\n",
       "24             3           2      2   7980   43.387164  148.803743\n",
       "25             3           4      8  98575  214.665657 -976.687594\n",
       "26             3           0      4  40796 -220.267647 -157.870718\n",
       "27             3           0      6  42351 -455.354264 -329.388060\n",
       "28             3           1      4  49832  -31.193083 -269.198796\n",
       "29             3           0      0   5891  -31.407037  -23.121376\n",
       "...          ...         ...    ...    ...         ...         ...\n",
       "418029     19993           4      3  35548 -109.530855 -182.680026\n",
       "418030     19993           0      0   5878  -31.598618  -22.858857\n",
       "418031     19993           8      1  20094   79.148058  -30.993305\n",
       "418032     19993           1      1  11809  -80.369011  -27.673490\n",
       "418033     19993           1      4  37649 -256.241186  -88.212554\n",
       "418034     19993           8      0   9188   36.018133  -14.956406\n",
       "418035     19993           3      3  22262 -183.918313  107.438607\n",
       "418036     19993           3      0   4121  -34.225940   18.697193\n",
       "418037     19993           8      7  90772  721.613645 -244.781018\n",
       "418038     19993           3      6  29238 -481.921338  289.129424\n",
       "418039     19993           2      2  26875  -57.167143 -144.072613\n",
       "418040     19993           3      5  21106 -348.217889  206.807403\n",
       "418041     19993           7      1    263   84.745833    6.568393\n",
       "418042     19993           5      7  43985 -737.273726  192.539484\n",
       "418043     19993           3      1   8922  -73.870160   42.049964\n",
       "418044     19993           2      6  48695 -208.538080 -521.877255\n",
       "418045     19993           4      0   6481  -20.650124  -33.084322\n",
       "418046     19993           5      1   9745  -81.796001   23.117399\n",
       "418047     19993           8      3  50484  199.505984  -74.608059\n",
       "418048     19993           7      7   1823  756.554871   90.932539\n",
       "418049     19993           3      8  51798 -851.635398  524.134666\n",
       "418050     19993           6      4  31592 -264.034747   61.046313\n",
       "418051     19993           3      7  39562 -651.343033  395.469661\n",
       "418052     19993           6      7  43964 -737.007716  193.555227\n",
       "418053     19993           2      3  36936  -78.451670 -198.026098\n",
       "418054     19993           3      4  28297 -233.659073  137.275044\n",
       "418055     19993           6      8  57404 -963.396698  268.079843\n",
       "418056     19993           0      2  23501 -123.499209  -93.664002\n",
       "418057     19993           7      0     97   38.924635    2.423381\n",
       "418058     19993           7      6   1230  558.638460   61.376466\n",
       "\n",
       "[418059 rows x 6 columns]"
      ]
     },
     "execution_count": 3,
     "metadata": {},
     "output_type": "execute_result"
    }
   ],
   "source": [
    "df"
   ]
  },
  {
   "cell_type": "code",
   "execution_count": 4,
   "metadata": {
    "collapsed": false
   },
   "outputs": [],
   "source": [
    "# Build the arrays of input variables and track labels (cluster_id)\n",
    "# by dropping everything else from the dataframe with a call to drop\n",
    "y = df.drop(['layer','iphi','x','y'], axis=1).values\n",
    "X = df.drop(['cluster_id'], axis=1).values"
   ]
  },
  {
   "cell_type": "markdown",
   "metadata": {},
   "source": [
    "### Looping over events"
   ]
  },
  {
   "cell_type": "code",
   "execution_count": 5,
   "metadata": {
    "collapsed": false
   },
   "outputs": [],
   "source": [
    "y_events = y[:,0]"
   ]
  },
  {
   "cell_type": "code",
   "execution_count": 6,
   "metadata": {
    "collapsed": false
   },
   "outputs": [],
   "source": [
    "events = np.unique(y_events)"
   ]
  },
  {
   "cell_type": "code",
   "execution_count": 7,
   "metadata": {
    "collapsed": false
   },
   "outputs": [],
   "source": [
    "# Count the number of tracks\n",
    "ntrack = 0\n",
    "for ev in events:\n",
    "    ntrack += np.unique(y[y_events==ev][:,1]).size"
   ]
  },
  {
   "cell_type": "code",
   "execution_count": 8,
   "metadata": {
    "collapsed": false
   },
   "outputs": [
    {
     "name": "stdout",
     "output_type": "stream",
     "text": [
      "There are 5000 events\n",
      "There are 49897 total tracks\n",
      "There are 418059 total hits\n",
      "Average 8.37844 hits per track\n",
      "There are 48383 hits on first layer\n",
      "There are 44654 hits on last layer\n"
     ]
    }
   ],
   "source": [
    "print 'There are %d events' % events.shape[0]\n",
    "print 'There are %d total tracks' % ntrack\n",
    "print 'There are %d total hits' % X.shape[0]\n",
    "print 'Average %g hits per track' % (float(X.shape[0]) / ntrack)\n",
    "print 'There are %d hits on first layer' % X[X[:,1]==0].shape[0]\n",
    "print 'There are %d hits on last layer' % X[X[:,1]==8].shape[0]"
   ]
  },
  {
   "cell_type": "markdown",
   "metadata": {},
   "source": [
    "### Visualize the hits in a single event"
   ]
  },
  {
   "cell_type": "code",
   "execution_count": 9,
   "metadata": {
    "collapsed": false
   },
   "outputs": [],
   "source": [
    "ievent = 3\n",
    "event_indices = X[:,0]==ievent\n",
    "X_event = X[event_indices,1:] # event_id column dropped\n",
    "pixelx = X_event[:,2]\n",
    "pixely = X_event[:,3]\n",
    "particles = y[event_indices][:,1]"
   ]
  },
  {
   "cell_type": "markdown",
   "metadata": {},
   "source": [
    "**Notice that** the information provided has some redundancy. You may either use **layer and iphi** (integers) or **x and y** (floats)."
   ]
  },
  {
   "cell_type": "code",
   "execution_count": 10,
   "metadata": {
    "collapsed": true
   },
   "outputs": [],
   "source": [
    "# event_id column dropped already\n",
    "X_detector = X_event[:,0:2]\n",
    "X_xy = X[:,2:4]"
   ]
  },
  {
   "cell_type": "markdown",
   "metadata": {},
   "source": [
    "#### Hits from all particles"
   ]
  },
  {
   "cell_type": "code",
   "execution_count": 11,
   "metadata": {
    "collapsed": false
   },
   "outputs": [
    {
     "data": {
      "image/png": "[encoded data removed]",
      "text/plain": [
       "<matplotlib.figure.Figure at 0x7f5861074090>"
      ]
     },
     "metadata": {},
     "output_type": "display_data"
    }
   ],
   "source": [
    "plt.scatter(pixelx,pixely)\n",
    "plt.axis('equal')\n",
    "plt.show()"
   ]
  },
  {
   "cell_type": "markdown",
   "metadata": {},
   "source": [
    "This is what the algorithm will see."
   ]
  },
  {
   "cell_type": "markdown",
   "metadata": {},
   "source": [
    "#### Hits from a single particle"
   ]
  },
  {
   "cell_type": "code",
   "execution_count": 12,
   "metadata": {
    "collapsed": false
   },
   "outputs": [
    {
     "data": {
      "image/png": "[encoded data removed]",
      "text/plain": [
       "<matplotlib.figure.Figure at 0x7f5860170f10>"
      ]
     },
     "metadata": {},
     "output_type": "display_data"
    }
   ],
   "source": [
    "iparticle = 2\n",
    "hits_particle = (particles == iparticle)\n",
    "plt.scatter(pixelx[hits_particle],pixely[hits_particle])\n",
    "plt.axis('equal')\n",
    "plt.show()"
   ]
  },
  {
   "cell_type": "markdown",
   "metadata": {},
   "source": [
    "So, ideally, our algorithm wants to assign specific ids to all hits in a way that corresponds to the particle. The perfect algorithm will split the event into various tracks:"
   ]
  },
  {
   "cell_type": "code",
   "execution_count": 13,
   "metadata": {
    "collapsed": false
   },
   "outputs": [
    {
     "data": {
      "image/png": "[encoded data removed]",
      "text/plain": [
       "<matplotlib.figure.Figure at 0x7f5860139ad0>"
      ]
     },
     "metadata": {},
     "output_type": "display_data"
    }
   ],
   "source": [
    "cmap = ['k','b','y','g','r','k','b']\n",
    "for iparticle in np.unique(particles):\n",
    "    hits_particle = (particles == iparticle)\n",
    "    plt.scatter(pixelx[hits_particle],pixely[hits_particle],color=cmap[int(iparticle) % 7])\n",
    "plt.show()"
   ]
  },
  {
   "cell_type": "markdown",
   "metadata": {},
   "source": [
    "### Matching the hits together"
   ]
  },
  {
   "cell_type": "markdown",
   "metadata": {},
   "source": [
    "Choose the tracking class that you want to use\n",
    "(in the submission, it has to be named HitToTrackAssignment in clusterer.py)"
   ]
  },
  {
   "cell_type": "code",
   "execution_count": null,
   "metadata": {
    "collapsed": false
   },
   "outputs": [
    {
     "name": "stderr",
     "output_type": "stream",
     "text": [
      "Using Theano backend.\n",
      "Using gpu device 7: GeForce GTX 1080 (CNMeM is disabled, cuDNN 5105)\n",
      "/usr/local/lib/python2.7/dist-packages/theano/sandbox/cuda/__init__.py:600: UserWarning: Your cuDNN version is more recent than the one Theano officially supports. If you see any problems, try updating Theano or downgrading cuDNN to version 5.\n",
      "  warnings.warn(warn)\n"
     ]
    },
    {
     "name": "stdout",
     "output_type": "stream",
     "text": [
      "____________________________________________________________________________________________________\n",
      "Layer (type)                     Output Shape          Param #     Connected to                     \n",
      "====================================================================================================\n",
      "input_1 (InputLayer)             (None, 9, 100)        0                                            \n",
      "____________________________________________________________________________________________________\n",
      "lstm_1 (LSTM)                    (None, 9, 50)         30200       input_1[0][0]                    \n",
      "____________________________________________________________________________________________________\n",
      "timedistributed_1 (TimeDistribut (None, 9, 100)        5100        lstm_1[0][0]                     \n",
      "====================================================================================================\n",
      "Total params: 35,300\n",
      "Trainable params: 35,300\n",
      "Non-trainable params: 0\n",
      "____________________________________________________________________________________________________\n"
     ]
    }
   ],
   "source": [
    "from clusterer import Clusterer\n",
    "tracker = Clusterer(0.8)\n",
    "\n",
    "tracker.model.summary()"
   ]
  },
  {
   "cell_type": "markdown",
   "metadata": {},
   "source": [
    "#### Training the algorithm"
   ]
  },
  {
   "cell_type": "code",
   "execution_count": null,
   "metadata": {
    "collapsed": false
   },
   "outputs": [
    {
     "name": "stdout",
     "output_type": "stream",
     "text": [
      "Number of seeds: 48383\n",
      "Preparing training data...\n",
      "Starting training...\n",
      "Epoch 1/20\n",
      "48383/48383 [==============================] - 11s - loss: 3.0841 - acc: 0.3825    \n",
      "Epoch 2/20\n",
      "48383/48383 [==============================] - 11s - loss: 1.4776 - acc: 0.6481    \n",
      "Epoch 3/20\n",
      "48383/48383 [==============================] - 11s - loss: 1.0503 - acc: 0.6792    \n",
      "Epoch 4/20\n",
      "48383/48383 [==============================] - 11s - loss: 0.8390 - acc: 0.7041    \n",
      "Epoch 5/20\n",
      "48383/48383 [==============================] - 11s - loss: 0.6849 - acc: 0.7355    \n",
      "Epoch 6/20\n",
      "48383/48383 [==============================] - 11s - loss: 0.5729 - acc: 0.7665    \n",
      "Epoch 7/20\n",
      "48383/48383 [==============================] - 11s - loss: 0.4911 - acc: 0.7900    \n",
      "Epoch 8/20\n",
      "48383/48383 [==============================] - 11s - loss: 0.4302 - acc: 0.8082    \n",
      "Epoch 9/20\n",
      "48383/48383 [==============================] - 11s - loss: 0.3826 - acc: 0.8223    \n",
      "Epoch 10/20\n",
      "48383/48383 [==============================] - 11s - loss: 0.3453 - acc: 0.8331    \n",
      "Epoch 11/20\n",
      "48383/48383 [==============================] - 11s - loss: 0.3157 - acc: 0.8411    \n",
      "Epoch 12/20\n",
      "48383/48383 [==============================] - 11s - loss: 0.2931 - acc: 0.8475    \n",
      "Epoch 13/20\n",
      "48383/48383 [==============================] - 11s - loss: 0.2732 - acc: 0.8523    \n",
      "Epoch 14/20\n",
      "48383/48383 [==============================] - 11s - loss: 0.2574 - acc: 0.8563    \n",
      "Epoch 15/20\n",
      "48383/48383 [==============================] - 11s - loss: 0.2443 - acc: 0.8597    \n",
      "Epoch 16/20\n",
      "23000/48383 [=============>................] - ETA: 5s - loss: 0.2257 - acc: 0.8638"
     ]
    }
   ],
   "source": [
    "tracker.fit(X, y)"
   ]
  },
  {
   "cell_type": "code",
   "execution_count": 39,
   "metadata": {
    "collapsed": false
   },
   "outputs": [
    {
     "data": {
      "image/png": "[encoded data removed]",
      "text/plain": [
       "<matplotlib.figure.Figure at 0x7f578af16dd0>"
      ]
     },
     "metadata": {},
     "output_type": "display_data"
    }
   ],
   "source": [
    "plt.figure(figsize=(9,4))\n",
    "plt.subplot(1,2,1)\n",
    "plt.plot(tracker.history.epoch, tracker.history.history['loss'])\n",
    "plt.title('Training loss')\n",
    "plt.xlabel('Epoch')\n",
    "plt.ylabel('Loss')\n",
    "plt.subplot(1,2,2)\n",
    "plt.plot(tracker.history.epoch, tracker.history.history['acc'])\n",
    "plt.title('Training accuracy')\n",
    "plt.xlabel('Epoch')\n",
    "plt.ylabel('Accuracy');"
   ]
  },
  {
   "cell_type": "code",
   "execution_count": null,
   "metadata": {
    "collapsed": false
   },
   "outputs": [],
   "source": [
    "tracker.train_pred = tracker.model.predict(tracker.train_input)"
   ]
  },
  {
   "cell_type": "code",
   "execution_count": 40,
   "metadata": {
    "collapsed": false
   },
   "outputs": [],
   "source": [
    "# Visualization function\n",
    "def draw_sample(sample, title=None):\n",
    "    plt.imshow(sample.T, interpolation='none',\n",
    "               aspect='auto', origin='lower')\n",
    "    plt.xlabel('Layer')\n",
    "    plt.ylabel('Pixel bin')\n",
    "    if title is not None:\n",
    "        plt.title(title)\n",
    "    plt.autoscale(False)\n",
    "\n",
    "def draw_input_target_pred(sample_input, sample_target, sample_pred,\n",
    "                           figsize=(12,4)):\n",
    "    plt.figure(figsize=figsize)\n",
    "    plt.subplot(1,3,1)\n",
    "    draw_sample(sample_input, 'Input')\n",
    "    plt.subplot(1,3,2)\n",
    "    draw_sample(sample_target, 'Target')\n",
    "    plt.subplot(1,3,3)\n",
    "    draw_sample(sample_pred, 'Model prediction')\n",
    "    plt.tight_layout()"
   ]
  },
  {
   "cell_type": "code",
   "execution_count": 46,
   "metadata": {
    "collapsed": false
   },
   "outputs": [
    {
     "data": {
      "image/png": "[encoded data removed]",
      "text/plain": [
       "<matplotlib.figure.Figure at 0x7f578ac2c990>"
      ]
     },
     "metadata": {},
     "output_type": "display_data"
    },
    {
     "data": {
      "image/png": "[encoded data removed]",
      "text/plain": [
       "<matplotlib.figure.Figure at 0x7f578bdda590>"
      ]
     },
     "metadata": {},
     "output_type": "display_data"
    },
    {
     "data": {
      "image/png": "[encoded data removed]",
      "text/plain": [
       "<matplotlib.figure.Figure at 0x7f5799ee4710>"
      ]
     },
     "metadata": {},
     "output_type": "display_data"
    },
    {
     "data": {
      "image/png": "[encoded data removed]",
      "text/plain": [
       "<matplotlib.figure.Figure at 0x7f578b2c43d0>"
      ]
     },
     "metadata": {},
     "output_type": "display_data"
    },
    {
     "data": {
      "image/png": "[encoded data removed]",
      "text/plain": [
       "<matplotlib.figure.Figure at 0x7f5799e47110>"
      ]
     },
     "metadata": {},
     "output_type": "display_data"
    },
    {
     "data": {
      "image/png": "[encoded data removed]",
      "text/plain": [
       "<matplotlib.figure.Figure at 0x7f578b371610>"
      ]
     },
     "metadata": {},
     "output_type": "display_data"
    }
   ],
   "source": [
    "for i in [0, 1, 2, 3, 4, 5]:\n",
    "    i += 1000\n",
    "    draw_input_target_pred(tracker.train_input[i], tracker.train_target[i],\n",
    "                           tracker.train_pred[i])"
   ]
  },
  {
   "cell_type": "markdown",
   "metadata": {},
   "source": [
    "#### Running the algorithm to reconstruct the tracks in data\n",
    "This will take some time to go through all events"
   ]
  },
  {
   "cell_type": "code",
   "execution_count": 42,
   "metadata": {
    "collapsed": false
   },
   "outputs": [],
   "source": [
    "y_true = y\n",
    "y_predicted = tracker.predict_single_event(X_event)"
   ]
  },
  {
   "cell_type": "raw",
   "metadata": {
    "collapsed": false
   },
   "source": [
    "for i in xrange(tracker.test_input.shape[0]):\n",
    "    plt.figure(figsize=(10,4))\n",
    "    plt.subplot(1,2,1)\n",
    "    draw_sample(tracker.test_input[i])\n",
    "    plt.subplot(1,2,2)\n",
    "    draw_sample(tracker.test_pred[i])"
   ]
  },
  {
   "cell_type": "markdown",
   "metadata": {},
   "source": [
    "Let's compare how well the tracks corresponds to the particles"
   ]
  },
  {
   "cell_type": "code",
   "execution_count": null,
   "metadata": {
    "collapsed": false
   },
   "outputs": [],
   "source": [
    "df_result = pd.DataFrame({'particle':y_true[event_indices,1],'track':y_predicted}).sort_values(by='particle')\n",
    "df_result"
   ]
  },
  {
   "cell_type": "code",
   "execution_count": null,
   "metadata": {
    "collapsed": false
   },
   "outputs": [],
   "source": [
    "tracks = y_predicted"
   ]
  },
  {
   "cell_type": "code",
   "execution_count": null,
   "metadata": {
    "collapsed": false
   },
   "outputs": [],
   "source": [
    "cmap = ['k','b','y','g','r']\n",
    "for itrack in np.unique(tracks):\n",
    "    if itrack >= 0:\n",
    "        hits_track = (tracks == itrack)\n",
    "        plt.scatter(pixelx[hits_track],pixely[hits_track],color=cmap[int(itrack) % 5])\n",
    "plt.show()"
   ]
  },
  {
   "cell_type": "markdown",
   "metadata": {},
   "source": [
    "Let's see which hits were not assigned to any cluster:"
   ]
  },
  {
   "cell_type": "code",
   "execution_count": null,
   "metadata": {
    "collapsed": false
   },
   "outputs": [],
   "source": [
    "cmap = ['k','b','y','g','r']\n",
    "itrack = -1\n",
    "hits_track = (tracks == itrack)\n",
    "plt.scatter(pixelx[hits_track],pixely[hits_track],color=cmap[int(itrack) % 5])\n",
    "plt.show()"
   ]
  },
  {
   "cell_type": "markdown",
   "metadata": {},
   "source": [
    "### Scoring the assignment"
   ]
  },
  {
   "cell_type": "markdown",
   "metadata": {},
   "source": [
    "The score function measures the fraction of hits with good track assignment. More precisely, it is the overlap fraction between the true vs predicted cluster_id, averaged over all events. However, notice that the reconstruction algorithm has the freedom to label the indices in a way different than the true cluster_ids, therefore the \"overlap\" should be more clearly defined.\n",
    "\n",
    "For this, we first determine a one-to-one matching between the true cluster_ids and predicted cluster_ids, particle-by-particle for a given event. For a given particle (defined by a single true cluster_id) the corresponding predicted cluster_id is the most frequent one among its hits. \n",
    "\n",
    "Once every particle is associated to a track in this way, we loop over to remove the duplicates, i.e. the tracks which contain the maximum hits of more than one particle. Among those particles, the particle with the most hits inside this track is considered to be the right match, and the other particles are considered to be lost.\n",
    "\n",
    "After the above procedure, the well-associated hits in the event are counted, and their ratio to the total number of hits is determined as the efficiency of this event.\n",
    "\n",
    "In the end, every event, regardless of its hit multiplicity, is considered equivalent and the efficiency is averaged over the events in the full sample.\n",
    "\n",
    "The input to the score function is the true and predicted arrays of [event_id, cluster_id]. Note that in order for the scoring to function, the order of the hits in the predicted array must match exactly the same order in the input. If your algorithm reshuffles the order of the hits, make sure you save the original indices before doing that, and re-sort the result array corresponding to those indices."
   ]
  },
  {
   "cell_type": "code",
   "execution_count": null,
   "metadata": {
    "collapsed": true
   },
   "outputs": [],
   "source": [
    "def score_function(y_true, y_pred):\n",
    "    '''Compute a clustering score.\n",
    "\n",
    "    Cluster ids should be nonnegative integers. A negative integer\n",
    "    will mean that the corresponding point does not belong to any\n",
    "    cluster.\n",
    "\n",
    "    We first identify assigned clusters by taking the max count of \n",
    "    unique assigned ids for each true cluster. We remove all unassigned\n",
    "    clusters (all assigned ids are -1) and all duplicates (the same\n",
    "    assigned id has majority in several true clusters) except the one\n",
    "    with the largest count. We add the counts, then divide by the number\n",
    "    of events. The score should be between 0 and 1. \n",
    "\n",
    "    Parameters\n",
    "    ----------\n",
    "    y_true : np.array, shape = (n, 2)\n",
    "        The ground truth.\n",
    "        first column: event_id\n",
    "        second column: cluster_id\n",
    "    y_pred : np.array, shape = (n, 2)\n",
    "        The predicted cluster assignment.\n",
    "        first column: event_id\n",
    "        second column: predicted cluster_id\n",
    "    \"\"\"\n",
    "    '''\n",
    "    score = 0.\n",
    "    event_ids = y_true[:, 0]\n",
    "    y_true_cluster_ids = y_true[:, 1]\n",
    "    y_pred_cluster_ids = y_pred\n",
    "\n",
    "    unique_event_ids = np.unique(event_ids)\n",
    "    for event_id in unique_event_ids:\n",
    "        event_indices = (event_ids==event_id)\n",
    "        cluster_ids_true = y_true_cluster_ids[event_indices]\n",
    "        cluster_ids_pred = y_pred_cluster_ids[event_indices]\n",
    "\n",
    "        unique_cluster_ids = np.unique(cluster_ids_true)\n",
    "        n_cluster = len(unique_cluster_ids)\n",
    "        n_sample = len(cluster_ids_true)\n",
    "\n",
    "        # assigned_clusters[i] will be the predicted cluster id\n",
    "        # we assign (by majority) to true cluster i \n",
    "        assigned_clusters = np.empty(n_cluster, dtype='int64')\n",
    "        # true_positives[i] will be the number of points in \n",
    "        # predicted cluster[assigned_clusters[i]]\n",
    "        true_positives = np.full(n_cluster, fill_value=0, dtype='int64')\n",
    "        for i, cluster_id in enumerate(unique_cluster_ids):\n",
    "            # true points belonging to a cluster\n",
    "            true_points = cluster_ids_true[cluster_ids_true == cluster_id]\n",
    "            # predicted points belonging to a cluster\n",
    "            found_points = cluster_ids_pred[cluster_ids_true == cluster_id]\n",
    "            # nonnegative cluster_ids (negative ones are unassigned)\n",
    "            assigned_points = found_points[found_points >= 0]\n",
    "            # the unique nonnegative predicted cluster ids on true_cluster[i]\n",
    "            n_sub_cluster = len(np.unique(assigned_points))\n",
    "            # We find the largest predicted cluster in the true cluster.\n",
    "            if(n_sub_cluster > 0):\n",
    "                # sizes of predicted assigned cluster in true cluster[i]\n",
    "                predicted_cluster_sizes = np.bincount(\n",
    "                    assigned_points.astype(dtype='int64'))\n",
    "                # If there are ties, we assign the tre cluster to the predicted\n",
    "                # cluster with the smallest id (combined behavior of np.unique\n",
    "                # which sorts the ids and np.argmax which returns the first \n",
    "                # occurence of a tie).\n",
    "                assigned_clusters[i] = np.argmax(predicted_cluster_sizes)\n",
    "                true_positives[i] = len(\n",
    "                    found_points[found_points == assigned_clusters[i]])\n",
    "            # If none of the assigned ids are positive, the cluster is unassigned\n",
    "            # and true_positive = 0\n",
    "            else:\n",
    "                assigned_clusters[i] = -1\n",
    "                true_positives[i] = 0\n",
    "\n",
    "        # resolve duplicates and count good assignments\n",
    "        sorted = np.argsort(true_positives)\n",
    "        true_positives_sorted = true_positives[sorted]\n",
    "        assigned_clusters_sorted = assigned_clusters[sorted]\n",
    "        good_clusters = assigned_clusters_sorted >= 0\n",
    "        for i in range(len(assigned_clusters_sorted) - 1):\n",
    "            assigned_cluster = assigned_clusters_sorted[i]\n",
    "            # duplicates: only keep the last count (which is the largest\n",
    "            # because of sorting)\n",
    "            if assigned_cluster in assigned_clusters_sorted[i+1:]:\n",
    "                good_clusters[i] = False\n",
    "        n_good = np.sum(true_positives_sorted[good_clusters])\n",
    "        score += 1. * n_good / n_sample\n",
    "    score /= len(unique_event_ids)\n",
    "    return score\n"
   ]
  },
  {
   "cell_type": "markdown",
   "metadata": {
    "collapsed": true
   },
   "source": [
    "Check the score of a single event:"
   ]
  },
  {
   "cell_type": "code",
   "execution_count": null,
   "metadata": {
    "collapsed": false
   },
   "outputs": [],
   "source": [
    "y_pred = np.zeros((len(y_predicted),2))\n",
    "\n",
    "y_pred[:,1] = y_predicted\n",
    "y_pred[:,0] = [ievent] * len(y_predicted)\n",
    "\n",
    "y_test_event = y[y[:,0]==ievent]\n",
    "\n",
    "score_function(y_test_event,y_pred)"
   ]
  }
 ],
 "metadata": {
  "anaconda-cloud": {},
  "kernelspec": {
   "display_name": "Python 2",
   "language": "python",
   "name": "python2"
  },
  "language_info": {
   "codemirror_mode": {
    "name": "ipython",
    "version": 2
   },
   "file_extension": ".py",
   "mimetype": "text/x-python",
   "name": "python",
   "nbconvert_exporter": "python",
   "pygments_lexer": "ipython2",
   "version": "2.7.12"
  }
 },
 "nbformat": 4,
 "nbformat_minor": 2
}
