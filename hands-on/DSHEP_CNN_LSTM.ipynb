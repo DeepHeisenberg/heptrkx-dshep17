{
 "cells": [
  {
   "cell_type": "code",
   "execution_count": 1,
   "metadata": {
    "collapsed": false,
    "deletable": true,
    "editable": true
   },
   "outputs": [
    {
     "name": "stderr",
     "output_type": "stream",
     "text": [
      "Using Theano backend.\n"
     ]
    },
    {
     "name": "stdout",
     "output_type": "stream",
     "text": [
      "Couldn't import dot_parser, loading of dot files will not be possible.\n"
     ]
    },
    {
     "name": "stderr",
     "output_type": "stream",
     "text": [
      "Using cuDNN version 5105 on context None\n",
      "Mapped name None to device cuda4: GeForce GTX 1080 (0000:0B:00.0)\n"
     ]
    }
   ],
   "source": [
    "# Standard imports\n",
    "import sys\n",
    "import itertools\n",
    "import glob\n",
    "\n",
    "# Package imports\n",
    "import numpy as np\n",
    "import pandas as pd\n",
    "from keras import models, layers\n",
    "import matplotlib.pyplot as plt\n",
    "\n",
    "# Local imports\n",
    "import dutils\n",
    "import drawing\n",
    "\n",
    "%matplotlib inline\n",
    "np.random.seed(2341)"
   ]
  },
  {
   "cell_type": "code",
   "execution_count": 2,
   "metadata": {
    "collapsed": false,
    "deletable": true,
    "editable": true
   },
   "outputs": [],
   "source": [
    "hits_row_names = [\"event_id\", \"track_id\", \"i_r\", \"i_phi\", \"x\", \"y\"]\n",
    "particles_row_names = [\"event_id\", \"p_id\", \"pt\", \"phi\", \"vx\", \"vy\"]\n",
    "n_r_bins = 9\n",
    "n_phi_bins = 1000\n",
    "max_tracks = 25\n",
    "pt_scale = 2*np.pi/20000 # for loss function\n",
    "\n",
    "def get_phi(x, y):\n",
    "    return np.arctan2(y, x)\n",
    "\n",
    "def discretize(evt, phiwidth):\n",
    "    \"\"\"\n",
    "    evt: pandas dataframe holding hit information for one event\n",
    "    phiwidth: size of pixel in phi direction\n",
    "    \n",
    "    Converts the hit information in the event into a numpy array with\n",
    "    hits represented by 1's.\n",
    "    \"\"\"\n",
    "    \n",
    "    r_grid = np.arange(n_r_bins)\n",
    "    phi_grid = np.arange(0., 2*np.pi, phiwidth)\n",
    "    image = np.zeros((1, len(r_grid),len(phi_grid)))\n",
    "    try:\n",
    "        for hit in evt.itertuples():\n",
    "            ir = hit[hits_row_names.index('i_r')]\n",
    "            x = hit[hits_row_names.index('x')]\n",
    "            y = hit[hits_row_names.index('y')]\n",
    "            phi = get_phi(x, y)\n",
    "            iphi = int((phi/phiwidth))\n",
    "            image[0,ir,iphi] = 1\n",
    "    except AttributeError:\n",
    "        # This occurs if the event has only one hit (rare), in which case evt\n",
    "        # is a Series, not a DataFrame.  Deal with this separately.\n",
    "        print \"Encountered event with only one hit:\",evt\n",
    "        \n",
    "    return image\n",
    "\n",
    "def get_targets(evt, max_tracks):\n",
    "    \"\"\"\n",
    "    evt: pandas dataframe holding particle info for one event\n",
    "    \n",
    "    Gets the pt and phi of each particle in the event and returns them in a numpy array,\n",
    "    scaled to an appropriate scale.\n",
    "    \"\"\"\n",
    "    particles = np.zeros((max_tracks, 2))\n",
    "    weights = np.zeros(max_tracks)\n",
    "    try:\n",
    "        for i,particle in enumerate(evt.itertuples()):\n",
    "            if i >= max_tracks:\n",
    "                break\n",
    "            particles[i, 0] = particle[particles_row_names.index('pt')]*pt_scale\n",
    "            particles[i, 1] = particle[particles_row_names.index('phi')]\n",
    "            weights[i] = 1\n",
    "        particles[:i+1] = particles[particles[:i+1,1].argsort()] # sort by second column (phi)\n",
    "    except AttributeError:\n",
    "        # This occurs if the event has only one particle, in which case evt is\n",
    "        # a Series, not a DataFrame.  Deal with this separately.\n",
    "        particles[0, 0] = evt['pt']*pt_scale\n",
    "        particles[0, 1] = evt['phi']\n",
    "        weights[0] = 1\n",
    "    \n",
    "    return particles, weights"
   ]
  },
  {
   "cell_type": "code",
   "execution_count": 3,
   "metadata": {
    "collapsed": false,
    "deletable": true,
    "editable": true
   },
   "outputs": [],
   "source": [
    "def gen_single_hits(hit_files):\n",
    "    cur_file = 0\n",
    "    num_files = len(hit_files)\n",
    "    while True:\n",
    "        df = pd.read_csv(hit_files[cur_file], header=None, names=hits_row_names, index_col=hits_row_names[0])\n",
    "        event_nums = sorted(df.index.unique())\n",
    "        for event_num in event_nums:\n",
    "            yield discretize(df.loc[event_num], phiwidth=2*np.pi/n_phi_bins)\n",
    "        cur_file += 1\n",
    "        if cur_file >= num_files:\n",
    "            cur_file = 0\n",
    "\n",
    "def gen_single_particles(particle_files, max_tracks):\n",
    "    cur_file = 0\n",
    "    num_files = len(particle_files)\n",
    "    while True:\n",
    "        df = pd.read_csv(particle_files[cur_file], header=None, names=particles_row_names, index_col=particles_row_names[0])\n",
    "        event_nums = sorted(df.index.unique())\n",
    "        for event_num in event_nums:\n",
    "            yield get_targets(df.loc[event_num], max_tracks)\n",
    "        cur_file += 1\n",
    "        if cur_file >= num_files:\n",
    "            cur_file = 0\n",
    "    \n",
    "def generate_data(batch_size, hit_files, particle_files, max_tracks=max_tracks):\n",
    "    gen_hits = gen_single_hits(hit_files)\n",
    "    gen_particles = gen_single_particles(particle_files, max_tracks)\n",
    "    while True:\n",
    "        batch_events = np.array([evt for evt in itertools.islice(gen_hits, batch_size)])\n",
    "        batch_targets = np.zeros((batch_size, max_tracks, 2))\n",
    "        batch_weights = np.zeros((batch_size, max_tracks))\n",
    "        for i,(particles, weights) in enumerate(itertools.islice(gen_particles, batch_size)):\n",
    "            batch_targets[i] = particles\n",
    "            batch_weights[i] = weights\n",
    "        yield batch_events, batch_targets, batch_weights"
   ]
  },
  {
   "cell_type": "code",
   "execution_count": 4,
   "metadata": {
    "collapsed": false,
    "deletable": true,
    "editable": true
   },
   "outputs": [],
   "source": [
    "hit_files = sorted(glob.glob(\"hits_*.csv\"))\n",
    "particle_files = sorted(glob.glob(\"particles_*.csv\"))\n",
    "generator = generate_data(256, hit_files, particle_files)"
   ]
  },
  {
   "cell_type": "code",
   "execution_count": 5,
   "metadata": {
    "collapsed": false
   },
   "outputs": [
    {
     "data": {
      "text/plain": [
       "['hits_1000_3757.csv']"
      ]
     },
     "execution_count": 5,
     "metadata": {},
     "output_type": "execute_result"
    }
   ],
   "source": [
    "hit_files"
   ]
  },
  {
   "cell_type": "code",
   "execution_count": 6,
   "metadata": {
    "collapsed": true,
    "deletable": true,
    "editable": true
   },
   "outputs": [],
   "source": [
    "# Model\n",
    "def build_model_1(max_tracks=max_tracks):\n",
    "    input_layer = layers.Input(shape=(1, n_r_bins, n_phi_bins))\n",
    "    \n",
    "    layer1 = layers.Convolution2D(8, 2, 6, border_mode='same')(input_layer)\n",
    "    layer1 = layers.Activation('relu')(layer1)\n",
    "    layer1 = layers.Convolution2D(8, 2, 6, border_mode='same')(layer1)\n",
    "    layer1 = layers.Activation('relu')(layer1)\n",
    "    layer1 = layers.MaxPooling2D(pool_size=(1,4))(layer1)\n",
    "    layer1 = layers.Convolution2D(16, 2, 6, border_mode='same')(layer1)\n",
    "    layer1 = layers.Activation('relu')(layer1)\n",
    "    layer1 = layers.Convolution2D(16, 2, 6, border_mode='same')(layer1)\n",
    "    layer1 = layers.Activation('relu')(layer1)\n",
    "    layer1 = layers.Flatten()(layer1)\n",
    "    \n",
    "    layer2 = layers.Convolution2D(8, 2, 12, border_mode='same')(input_layer)\n",
    "    layer2 = layers.Activation('relu')(layer2)\n",
    "    layer2 = layers.Convolution2D(8, 2, 12, border_mode='same')(layer2)\n",
    "    layer2 = layers.Activation('relu')(layer2)\n",
    "    layer2 = layers.MaxPooling2D(pool_size=(2,4))(layer2)\n",
    "    layer2 = layers.Convolution2D(16, 2, 6, border_mode='same')(layer2)\n",
    "    layer2 = layers.Activation('relu')(layer2)\n",
    "    layer2 = layers.Convolution2D(16, 2, 6, border_mode='same')(layer2)\n",
    "    layer2 = layers.Activation('relu')(layer2)\n",
    "    layer2 = layers.Flatten()(layer2)\n",
    "    \n",
    "    layer3 = layers.Convolution2D(8, 4, 12, border_mode='same')(input_layer)\n",
    "    layer3 = layers.Activation('relu')(layer3)\n",
    "    layer3 = layers.Convolution2D(8, 4, 12, border_mode='same')(layer3)\n",
    "    layer3 = layers.Activation('relu')(layer3)\n",
    "    layer3 = layers.Flatten()(layer3)\n",
    "    \n",
    "    layer = layers.merge([layer1, layer2, layer3], mode='concat', concat_axis=1)\n",
    "    layer = layers.Dense(1500)(layer)\n",
    "    layer = layers.RepeatVector(max_tracks)(layer)\n",
    "    layer = layers.LSTM(1500, return_sequences=True)(layer)\n",
    "    output_layer = layers.TimeDistributed(layers.Dense(2))(layer)\n",
    "    model = models.Model(input=input_layer, output=output_layer)\n",
    "    model.compile(loss='mean_squared_error', optimizer='Adam', sample_weight_mode=\"temporal\")\n",
    "    return model"
   ]
  },
  {
   "cell_type": "code",
   "execution_count": 9,
   "metadata": {
    "collapsed": false,
    "deletable": true,
    "editable": true
   },
   "outputs": [
    {
     "name": "stdout",
     "output_type": "stream",
     "text": [
      "Epoch 1/3\n",
      "96000/96000 [==============================] - 283s - loss: 1.7487   \n",
      "Epoch 2/3\n",
      "96000/96000 [==============================] - 279s - loss: 0.2522   \n",
      "Epoch 3/3\n",
      "96000/96000 [==============================] - 282s - loss: 0.0779   \n",
      "CPU times: user 21min 36s, sys: 1min 25s, total: 23min 2s\n",
      "Wall time: 15min 15s\n"
     ]
    },
    {
     "data": {
      "text/plain": [
       "<keras.callbacks.History at 0x7f4aeeb2ab50>"
      ]
     },
     "execution_count": 9,
     "metadata": {},
     "output_type": "execute_result"
    }
   ],
   "source": [
    "model_1 = build_model_1()\n",
    "%time model_1.fit_generator(generator, samples_per_epoch=96000, nb_epoch=3)"
   ]
  },
  {
   "cell_type": "code",
   "execution_count": 11,
   "metadata": {
    "collapsed": false
   },
   "outputs": [
    {
     "name": "stdout",
     "output_type": "stream",
     "text": [
      "____________________________________________________________________________________________________\n",
      "Layer (type)                     Output Shape          Param #     Connected to                     \n",
      "====================================================================================================\n",
      "input_3 (InputLayer)             (None, 1, 9, 1000)    0                                            \n",
      "____________________________________________________________________________________________________\n",
      "convolution2d_21 (Convolution2D) (None, 8, 9, 1000)    104         input_3[0][0]                    \n",
      "____________________________________________________________________________________________________\n",
      "convolution2d_25 (Convolution2D) (None, 8, 9, 1000)    200         input_3[0][0]                    \n",
      "____________________________________________________________________________________________________\n",
      "activation_21 (Activation)       (None, 8, 9, 1000)    0           convolution2d_21[0][0]           \n",
      "____________________________________________________________________________________________________\n",
      "activation_25 (Activation)       (None, 8, 9, 1000)    0           convolution2d_25[0][0]           \n",
      "____________________________________________________________________________________________________\n",
      "convolution2d_22 (Convolution2D) (None, 8, 9, 1000)    776         activation_21[0][0]              \n",
      "____________________________________________________________________________________________________\n",
      "convolution2d_26 (Convolution2D) (None, 8, 9, 1000)    1544        activation_25[0][0]              \n",
      "____________________________________________________________________________________________________\n",
      "activation_22 (Activation)       (None, 8, 9, 1000)    0           convolution2d_22[0][0]           \n",
      "____________________________________________________________________________________________________\n",
      "activation_26 (Activation)       (None, 8, 9, 1000)    0           convolution2d_26[0][0]           \n",
      "____________________________________________________________________________________________________\n",
      "maxpooling2d_5 (MaxPooling2D)    (None, 8, 9, 250)     0           activation_22[0][0]              \n",
      "____________________________________________________________________________________________________\n",
      "maxpooling2d_6 (MaxPooling2D)    (None, 8, 4, 250)     0           activation_26[0][0]              \n",
      "____________________________________________________________________________________________________\n",
      "convolution2d_23 (Convolution2D) (None, 16, 9, 250)    1552        maxpooling2d_5[0][0]             \n",
      "____________________________________________________________________________________________________\n",
      "convolution2d_27 (Convolution2D) (None, 16, 4, 250)    1552        maxpooling2d_6[0][0]             \n",
      "____________________________________________________________________________________________________\n",
      "convolution2d_29 (Convolution2D) (None, 8, 9, 1000)    392         input_3[0][0]                    \n",
      "____________________________________________________________________________________________________\n",
      "activation_23 (Activation)       (None, 16, 9, 250)    0           convolution2d_23[0][0]           \n",
      "____________________________________________________________________________________________________\n",
      "activation_27 (Activation)       (None, 16, 4, 250)    0           convolution2d_27[0][0]           \n",
      "____________________________________________________________________________________________________\n",
      "activation_29 (Activation)       (None, 8, 9, 1000)    0           convolution2d_29[0][0]           \n",
      "____________________________________________________________________________________________________\n",
      "convolution2d_24 (Convolution2D) (None, 16, 9, 250)    3088        activation_23[0][0]              \n",
      "____________________________________________________________________________________________________\n",
      "convolution2d_28 (Convolution2D) (None, 16, 4, 250)    3088        activation_27[0][0]              \n",
      "____________________________________________________________________________________________________\n",
      "convolution2d_30 (Convolution2D) (None, 8, 9, 1000)    3080        activation_29[0][0]              \n",
      "____________________________________________________________________________________________________\n",
      "activation_24 (Activation)       (None, 16, 9, 250)    0           convolution2d_24[0][0]           \n",
      "____________________________________________________________________________________________________\n",
      "activation_28 (Activation)       (None, 16, 4, 250)    0           convolution2d_28[0][0]           \n",
      "____________________________________________________________________________________________________\n",
      "activation_30 (Activation)       (None, 8, 9, 1000)    0           convolution2d_30[0][0]           \n",
      "____________________________________________________________________________________________________\n",
      "flatten_7 (Flatten)              (None, 36000)         0           activation_24[0][0]              \n",
      "____________________________________________________________________________________________________\n",
      "flatten_8 (Flatten)              (None, 16000)         0           activation_28[0][0]              \n",
      "____________________________________________________________________________________________________\n",
      "flatten_9 (Flatten)              (None, 72000)         0           activation_30[0][0]              \n",
      "____________________________________________________________________________________________________\n",
      "merge_3 (Merge)                  (None, 124000)        0           flatten_7[0][0]                  \n",
      "                                                                   flatten_8[0][0]                  \n",
      "                                                                   flatten_9[0][0]                  \n",
      "____________________________________________________________________________________________________\n",
      "dense_3 (Dense)                  (None, 1500)          186001500   merge_3[0][0]                    \n",
      "____________________________________________________________________________________________________\n",
      "repeatvector_1 (RepeatVector)    (None, 25, 1500)      0           dense_3[0][0]                    \n",
      "____________________________________________________________________________________________________\n",
      "lstm_1 (LSTM)                    (None, 25, 1500)      18006000    repeatvector_1[0][0]             \n",
      "____________________________________________________________________________________________________\n",
      "timedistributed_1 (TimeDistribut (None, 25, 2)         3002        lstm_1[0][0]                     \n",
      "====================================================================================================\n",
      "Total params: 204,025,878\n",
      "Trainable params: 204,025,878\n",
      "Non-trainable params: 0\n",
      "____________________________________________________________________________________________________\n"
     ]
    }
   ],
   "source": [
    "model_1.summary()"
   ]
  },
  {
   "cell_type": "code",
   "execution_count": 10,
   "metadata": {
    "collapsed": false,
    "deletable": true,
    "editable": true
   },
   "outputs": [
    {
     "name": "stdout",
     "output_type": "stream",
     "text": [
      "Epoch 1/3\n",
      "96000/96000 [==============================] - 282s - loss: 0.0059   \n",
      "Epoch 2/3\n",
      "96000/96000 [==============================] - 280s - loss: 0.0048   \n",
      "Epoch 3/3\n",
      "96000/96000 [==============================] - 279s - loss: 0.0418   \n",
      "CPU times: user 20min 25s, sys: 1min 25s, total: 21min 50s\n",
      "Wall time: 14min 3s\n"
     ]
    },
    {
     "data": {
      "text/plain": [
       "<keras.callbacks.History at 0x7f4aa749e810>"
      ]
     },
     "execution_count": 10,
     "metadata": {},
     "output_type": "execute_result"
    }
   ],
   "source": [
    "%time model_1.fit_generator(generator, samples_per_epoch=96000, nb_epoch=3)"
   ]
  },
  {
   "cell_type": "code",
   "execution_count": 14,
   "metadata": {
    "collapsed": false,
    "deletable": true,
    "editable": true
   },
   "outputs": [
    {
     "name": "stdout",
     "output_type": "stream",
     "text": [
      "Model prediction\n",
      "[[-2.74826002 -2.08461905]\n",
      " [-2.42180514 -1.86076283]\n",
      " [-0.94125944  0.5341922 ]\n",
      " [ 1.79529238  0.98758322]\n",
      " [ 1.93143034  1.48636985]\n",
      " [ 0.30175659  2.12708139]\n",
      " [-1.64481544  2.45662189]\n",
      " [ 0.10591574  2.64216542]\n",
      " [-0.32537264  2.87597752]\n",
      " [-0.20989402  3.01825905]\n",
      " [-0.46605545  3.18709826]\n",
      " [ 0.15184098  3.35880232]\n",
      " [ 0.15897642  3.46378207]\n",
      " [-0.51322931  3.47783208]\n",
      " [-0.06549633  3.45491362]\n",
      " [-0.37501004  3.45733142]\n",
      " [-0.27224681  3.43733716]\n",
      " [-0.18250574  3.43333077]\n",
      " [-0.56146139  3.43123722]\n",
      " [-0.11936898  3.42740321]\n",
      " [-0.39738044  3.43205309]\n",
      " [-0.47276899  3.42569566]\n",
      " [-0.26943848  3.42722416]\n",
      " [-0.61154139  3.42187548]\n",
      " [-0.38508546  3.39153504]]\n",
      "Target\n",
      "[[-2.75004826 -2.08240334]\n",
      " [-2.42628142 -1.8752989 ]\n",
      " [-0.94993302  0.52392038]\n",
      " [ 0.          0.        ]\n",
      " [ 0.          0.        ]\n",
      " [ 0.          0.        ]\n",
      " [ 0.          0.        ]\n",
      " [ 0.          0.        ]\n",
      " [ 0.          0.        ]\n",
      " [ 0.          0.        ]\n",
      " [ 0.          0.        ]\n",
      " [ 0.          0.        ]\n",
      " [ 0.          0.        ]\n",
      " [ 0.          0.        ]\n",
      " [ 0.          0.        ]\n",
      " [ 0.          0.        ]\n",
      " [ 0.          0.        ]\n",
      " [ 0.          0.        ]\n",
      " [ 0.          0.        ]\n",
      " [ 0.          0.        ]\n",
      " [ 0.          0.        ]\n",
      " [ 0.          0.        ]\n",
      " [ 0.          0.        ]\n",
      " [ 0.          0.        ]\n",
      " [ 0.          0.        ]]\n"
     ]
    }
   ],
   "source": [
    "evt, truth, weight = generator.next()\n",
    "#pred = model_1.predict(np.array([evt[0]]))\n",
    "pred = model_1.predict(evt)\n",
    "print \"Model prediction\"\n",
    "print pred[0]\n",
    "print \"Target\"\n",
    "print truth[0]"
   ]
  },
  {
   "cell_type": "code",
   "execution_count": null,
   "metadata": {
    "collapsed": true
   },
   "outputs": [],
   "source": []
  },
  {
   "cell_type": "code",
   "execution_count": 22,
   "metadata": {
    "collapsed": false,
    "deletable": true,
    "editable": true
   },
   "outputs": [
    {
     "data": {
      "image/png": "[encoded data removed]",
      "text/plain": [
       "<matplotlib.figure.Figure at 0x7f4aa41d2510>"
      ]
     },
     "metadata": {},
     "output_type": "display_data"
    },
    {
     "data": {
      "image/png": "[encoded data removed]",
      "text/plain": [
       "<matplotlib.figure.Figure at 0x7f4aee8055d0>"
      ]
     },
     "metadata": {},
     "output_type": "display_data"
    }
   ],
   "source": [
    "diff = []\n",
    "relative_diff = []\n",
    "for i in range( truth.shape[0]):\n",
    "    t = truth[i]\n",
    "    p = pred[i]\n",
    "    one = np.where(t[:,0] !=0 )\n",
    "    #print t[one,0]\n",
    "    #print p[one,0]\n",
    "    d  = (t[one,0] - p[one,0])\n",
    "    rd = d /t[one,0] \n",
    "    diff.extend(d.ravel())\n",
    "    relative_diff.extend(rd.ravel())\n",
    "\n",
    "\n",
    "plt.hist(diff )\n",
    "plt.xlabel('truth-prediction')\n",
    "plt.show()\n",
    "\n",
    "plt.hist(relative_diff )\n",
    "plt.xlabel('truth-prediction/prediction')\n",
    "plt.show()"
   ]
  },
  {
   "cell_type": "code",
   "execution_count": null,
   "metadata": {
    "collapsed": true
   },
   "outputs": [],
   "source": []
  }
 ],
 "metadata": {
  "kernelspec": {
   "display_name": "Python 2",
   "language": "python",
   "name": "python2"
  },
  "language_info": {
   "codemirror_mode": {
    "name": "ipython",
    "version": 2
   },
   "file_extension": ".py",
   "mimetype": "text/x-python",
   "name": "python",
   "nbconvert_exporter": "python",
   "pygments_lexer": "ipython2",
   "version": "2.7.12"
  }
 },
 "nbformat": 4,
 "nbformat_minor": 2
}
