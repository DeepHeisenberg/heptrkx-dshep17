{
 "cells": [
  {
   "cell_type": "markdown",
   "metadata": {},
   "source": [
    "import the proper library"
   ]
  },
  {
   "cell_type": "code",
   "execution_count": 1,
   "metadata": {
    "collapsed": false
   },
   "outputs": [],
   "source": [
    "import pandas as pd\n",
    "import numpy as np"
   ]
  },
  {
   "cell_type": "markdown",
   "metadata": {},
   "source": [
    "create a dataset"
   ]
  },
  {
   "cell_type": "code",
   "execution_count": 2,
   "metadata": {
    "collapsed": true
   },
   "outputs": [],
   "source": [
    "dataset = pd.DataFrame()"
   ]
  },
  {
   "cell_type": "markdown",
   "metadata": {},
   "source": [
    "create a variable"
   ]
  },
  {
   "cell_type": "code",
   "execution_count": 3,
   "metadata": {
    "collapsed": false
   },
   "outputs": [],
   "source": [
    "dataset['x'] = np.random.random(100)"
   ]
  },
  {
   "cell_type": "markdown",
   "metadata": {},
   "source": [
    "show the header of your data frame"
   ]
  },
  {
   "cell_type": "code",
   "execution_count": 4,
   "metadata": {
    "collapsed": false
   },
   "outputs": [
    {
     "data": {
      "text/html": [
       "<div>\n",
       "<table border=\"1\" class=\"dataframe\">\n",
       "  <thead>\n",
       "    <tr style=\"text-align: right;\">\n",
       "      <th></th>\n",
       "      <th>x</th>\n",
       "    </tr>\n",
       "  </thead>\n",
       "  <tbody>\n",
       "    <tr>\n",
       "      <th>0</th>\n",
       "      <td>0.659764</td>\n",
       "    </tr>\n",
       "    <tr>\n",
       "      <th>1</th>\n",
       "      <td>0.963813</td>\n",
       "    </tr>\n",
       "    <tr>\n",
       "      <th>2</th>\n",
       "      <td>0.618544</td>\n",
       "    </tr>\n",
       "    <tr>\n",
       "      <th>3</th>\n",
       "      <td>0.754153</td>\n",
       "    </tr>\n",
       "    <tr>\n",
       "      <th>4</th>\n",
       "      <td>0.905070</td>\n",
       "    </tr>\n",
       "  </tbody>\n",
       "</table>\n",
       "</div>"
      ],
      "text/plain": [
       "          x\n",
       "0  0.659764\n",
       "1  0.963813\n",
       "2  0.618544\n",
       "3  0.754153\n",
       "4  0.905070"
      ]
     },
     "execution_count": 4,
     "metadata": {},
     "output_type": "execute_result"
    }
   ],
   "source": [
    "dataset.head()"
   ]
  },
  {
   "cell_type": "code",
   "execution_count": 5,
   "metadata": {
    "collapsed": false
   },
   "outputs": [
    {
     "data": {
      "text/plain": [
       "(100,)"
      ]
     },
     "execution_count": 5,
     "metadata": {},
     "output_type": "execute_result"
    }
   ],
   "source": [
    "dataset['x'].values.shape"
   ]
  },
  {
   "cell_type": "markdown",
   "metadata": {},
   "source": [
    "show the tail of the dataset"
   ]
  },
  {
   "cell_type": "code",
   "execution_count": 6,
   "metadata": {
    "collapsed": false
   },
   "outputs": [
    {
     "data": {
      "text/html": [
       "<div>\n",
       "<table border=\"1\" class=\"dataframe\">\n",
       "  <thead>\n",
       "    <tr style=\"text-align: right;\">\n",
       "      <th></th>\n",
       "      <th>x</th>\n",
       "    </tr>\n",
       "  </thead>\n",
       "  <tbody>\n",
       "    <tr>\n",
       "      <th>95</th>\n",
       "      <td>0.306447</td>\n",
       "    </tr>\n",
       "    <tr>\n",
       "      <th>96</th>\n",
       "      <td>0.890356</td>\n",
       "    </tr>\n",
       "    <tr>\n",
       "      <th>97</th>\n",
       "      <td>0.783747</td>\n",
       "    </tr>\n",
       "    <tr>\n",
       "      <th>98</th>\n",
       "      <td>0.585809</td>\n",
       "    </tr>\n",
       "    <tr>\n",
       "      <th>99</th>\n",
       "      <td>0.391964</td>\n",
       "    </tr>\n",
       "  </tbody>\n",
       "</table>\n",
       "</div>"
      ],
      "text/plain": [
       "           x\n",
       "95  0.306447\n",
       "96  0.890356\n",
       "97  0.783747\n",
       "98  0.585809\n",
       "99  0.391964"
      ]
     },
     "execution_count": 6,
     "metadata": {},
     "output_type": "execute_result"
    }
   ],
   "source": [
    "dataset.tail()"
   ]
  },
  {
   "cell_type": "markdown",
   "metadata": {},
   "source": [
    "create another variable"
   ]
  },
  {
   "cell_type": "code",
   "execution_count": 7,
   "metadata": {
    "collapsed": false
   },
   "outputs": [],
   "source": [
    "dataset['y'] = np.random.random(100)"
   ]
  },
  {
   "cell_type": "code",
   "execution_count": 8,
   "metadata": {
    "collapsed": false
   },
   "outputs": [
    {
     "data": {
      "text/html": [
       "<div>\n",
       "<table border=\"1\" class=\"dataframe\">\n",
       "  <thead>\n",
       "    <tr style=\"text-align: right;\">\n",
       "      <th></th>\n",
       "      <th>x</th>\n",
       "      <th>y</th>\n",
       "    </tr>\n",
       "  </thead>\n",
       "  <tbody>\n",
       "    <tr>\n",
       "      <th>0</th>\n",
       "      <td>0.659764</td>\n",
       "      <td>0.113402</td>\n",
       "    </tr>\n",
       "    <tr>\n",
       "      <th>1</th>\n",
       "      <td>0.963813</td>\n",
       "      <td>0.747725</td>\n",
       "    </tr>\n",
       "    <tr>\n",
       "      <th>2</th>\n",
       "      <td>0.618544</td>\n",
       "      <td>0.983082</td>\n",
       "    </tr>\n",
       "    <tr>\n",
       "      <th>3</th>\n",
       "      <td>0.754153</td>\n",
       "      <td>0.809887</td>\n",
       "    </tr>\n",
       "    <tr>\n",
       "      <th>4</th>\n",
       "      <td>0.905070</td>\n",
       "      <td>0.845165</td>\n",
       "    </tr>\n",
       "  </tbody>\n",
       "</table>\n",
       "</div>"
      ],
      "text/plain": [
       "          x         y\n",
       "0  0.659764  0.113402\n",
       "1  0.963813  0.747725\n",
       "2  0.618544  0.983082\n",
       "3  0.754153  0.809887\n",
       "4  0.905070  0.845165"
      ]
     },
     "execution_count": 8,
     "metadata": {},
     "output_type": "execute_result"
    }
   ],
   "source": [
    "dataset.head()"
   ]
  },
  {
   "cell_type": "markdown",
   "metadata": {},
   "source": [
    "make an operation on variables"
   ]
  },
  {
   "cell_type": "code",
   "execution_count": 9,
   "metadata": {
    "collapsed": true
   },
   "outputs": [],
   "source": [
    "dataset['z'] = dataset['x'] + np.log(dataset['y'])"
   ]
  },
  {
   "cell_type": "code",
   "execution_count": 10,
   "metadata": {
    "collapsed": false
   },
   "outputs": [
    {
     "data": {
      "text/html": [
       "<div>\n",
       "<table border=\"1\" class=\"dataframe\">\n",
       "  <thead>\n",
       "    <tr style=\"text-align: right;\">\n",
       "      <th></th>\n",
       "      <th>x</th>\n",
       "      <th>y</th>\n",
       "      <th>z</th>\n",
       "    </tr>\n",
       "  </thead>\n",
       "  <tbody>\n",
       "    <tr>\n",
       "      <th>0</th>\n",
       "      <td>0.659764</td>\n",
       "      <td>0.113402</td>\n",
       "      <td>-1.517054</td>\n",
       "    </tr>\n",
       "    <tr>\n",
       "      <th>1</th>\n",
       "      <td>0.963813</td>\n",
       "      <td>0.747725</td>\n",
       "      <td>0.673092</td>\n",
       "    </tr>\n",
       "    <tr>\n",
       "      <th>2</th>\n",
       "      <td>0.618544</td>\n",
       "      <td>0.983082</td>\n",
       "      <td>0.601482</td>\n",
       "    </tr>\n",
       "    <tr>\n",
       "      <th>3</th>\n",
       "      <td>0.754153</td>\n",
       "      <td>0.809887</td>\n",
       "      <td>0.543292</td>\n",
       "    </tr>\n",
       "    <tr>\n",
       "      <th>4</th>\n",
       "      <td>0.905070</td>\n",
       "      <td>0.845165</td>\n",
       "      <td>0.736846</td>\n",
       "    </tr>\n",
       "  </tbody>\n",
       "</table>\n",
       "</div>"
      ],
      "text/plain": [
       "          x         y         z\n",
       "0  0.659764  0.113402 -1.517054\n",
       "1  0.963813  0.747725  0.673092\n",
       "2  0.618544  0.983082  0.601482\n",
       "3  0.754153  0.809887  0.543292\n",
       "4  0.905070  0.845165  0.736846"
      ]
     },
     "execution_count": 10,
     "metadata": {},
     "output_type": "execute_result"
    }
   ],
   "source": [
    "dataset.head()"
   ]
  },
  {
   "cell_type": "markdown",
   "metadata": {},
   "source": [
    "Create sub data from the table"
   ]
  },
  {
   "cell_type": "code",
   "execution_count": 11,
   "metadata": {
    "collapsed": false
   },
   "outputs": [
    {
     "data": {
      "text/plain": [
       "(100, 3)"
      ]
     },
     "execution_count": 11,
     "metadata": {},
     "output_type": "execute_result"
    }
   ],
   "source": [
    "dataset.shape"
   ]
  },
  {
   "cell_type": "code",
   "execution_count": 12,
   "metadata": {
    "collapsed": false
   },
   "outputs": [],
   "source": [
    "sub_data = dataset[['x','z']].values"
   ]
  },
  {
   "cell_type": "code",
   "execution_count": 13,
   "metadata": {
    "collapsed": false
   },
   "outputs": [
    {
     "data": {
      "text/plain": [
       "(100, 2)"
      ]
     },
     "execution_count": 13,
     "metadata": {},
     "output_type": "execute_result"
    }
   ],
   "source": [
    "sub_data.shape"
   ]
  },
  {
   "cell_type": "code",
   "execution_count": 14,
   "metadata": {
    "collapsed": false
   },
   "outputs": [],
   "source": [
    "last_column = dataset.values[:,-1]"
   ]
  },
  {
   "cell_type": "markdown",
   "metadata": {},
   "source": [
    "Apply some selections"
   ]
  },
  {
   "cell_type": "code",
   "execution_count": 15,
   "metadata": {
    "collapsed": false
   },
   "outputs": [],
   "source": [
    "selection = np.where( dataset.values[:,0] > 0.5)\n",
    "values = dataset.values[selection]"
   ]
  },
  {
   "cell_type": "code",
   "execution_count": 16,
   "metadata": {
    "collapsed": false
   },
   "outputs": [
    {
     "data": {
      "text/plain": [
       "(58, 3)"
      ]
     },
     "execution_count": 16,
     "metadata": {},
     "output_type": "execute_result"
    }
   ],
   "source": [
    "values.shape"
   ]
  },
  {
   "cell_type": "markdown",
   "metadata": {},
   "source": [
    "Calculate percentile"
   ]
  },
  {
   "cell_type": "code",
   "execution_count": 17,
   "metadata": {
    "collapsed": false
   },
   "outputs": [
    {
     "data": {
      "text/plain": [
       "array([ 0.13718337,  0.50817775,  0.62030676,  0.79726469])"
      ]
     },
     "execution_count": 17,
     "metadata": {},
     "output_type": "execute_result"
    }
   ],
   "source": [
    "bins = np.percentile(values, [20, 40, 60, 80])\n",
    "bins"
   ]
  },
  {
   "cell_type": "code",
   "execution_count": null,
   "metadata": {
    "collapsed": true
   },
   "outputs": [],
   "source": []
  },
  {
   "cell_type": "code",
   "execution_count": null,
   "metadata": {
    "collapsed": true
   },
   "outputs": [],
   "source": []
  },
  {
   "cell_type": "code",
   "execution_count": null,
   "metadata": {
    "collapsed": true
   },
   "outputs": [],
   "source": []
  },
  {
   "cell_type": "markdown",
   "metadata": {
    "collapsed": true
   },
   "source": [
    "save it to disk"
   ]
  },
  {
   "cell_type": "code",
   "execution_count": 18,
   "metadata": {
    "collapsed": false
   },
   "outputs": [],
   "source": [
    "dataset.to_hdf('mydataset.hdf5','data')"
   ]
  },
  {
   "cell_type": "markdown",
   "metadata": {},
   "source": [
    "reopen the dataset"
   ]
  },
  {
   "cell_type": "code",
   "execution_count": 19,
   "metadata": {
    "collapsed": false
   },
   "outputs": [],
   "source": [
    "store = pd.io.pytables.HDFStore('mydataset.hdf5')\n",
    "newdataset = store['data']"
   ]
  },
  {
   "cell_type": "code",
   "execution_count": 20,
   "metadata": {
    "collapsed": false
   },
   "outputs": [
    {
     "data": {
      "text/html": [
       "<div>\n",
       "<table border=\"1\" class=\"dataframe\">\n",
       "  <thead>\n",
       "    <tr style=\"text-align: right;\">\n",
       "      <th></th>\n",
       "      <th>x</th>\n",
       "      <th>y</th>\n",
       "      <th>z</th>\n",
       "    </tr>\n",
       "  </thead>\n",
       "  <tbody>\n",
       "    <tr>\n",
       "      <th>0</th>\n",
       "      <td>0.659764</td>\n",
       "      <td>0.113402</td>\n",
       "      <td>-1.517054</td>\n",
       "    </tr>\n",
       "    <tr>\n",
       "      <th>1</th>\n",
       "      <td>0.963813</td>\n",
       "      <td>0.747725</td>\n",
       "      <td>0.673092</td>\n",
       "    </tr>\n",
       "    <tr>\n",
       "      <th>2</th>\n",
       "      <td>0.618544</td>\n",
       "      <td>0.983082</td>\n",
       "      <td>0.601482</td>\n",
       "    </tr>\n",
       "    <tr>\n",
       "      <th>3</th>\n",
       "      <td>0.754153</td>\n",
       "      <td>0.809887</td>\n",
       "      <td>0.543292</td>\n",
       "    </tr>\n",
       "    <tr>\n",
       "      <th>4</th>\n",
       "      <td>0.905070</td>\n",
       "      <td>0.845165</td>\n",
       "      <td>0.736846</td>\n",
       "    </tr>\n",
       "  </tbody>\n",
       "</table>\n",
       "</div>"
      ],
      "text/plain": [
       "          x         y         z\n",
       "0  0.659764  0.113402 -1.517054\n",
       "1  0.963813  0.747725  0.673092\n",
       "2  0.618544  0.983082  0.601482\n",
       "3  0.754153  0.809887  0.543292\n",
       "4  0.905070  0.845165  0.736846"
      ]
     },
     "execution_count": 20,
     "metadata": {},
     "output_type": "execute_result"
    }
   ],
   "source": [
    "newdataset.head()"
   ]
  },
  {
   "cell_type": "markdown",
   "metadata": {},
   "source": [
    "http://pandas.pydata.org/"
   ]
  },
  {
   "cell_type": "markdown",
   "metadata": {},
   "source": [
    "Fancy a little root file "
   ]
  },
  {
   "cell_type": "markdown",
   "metadata": {},
   "source": [
    "## newer version of root is causing problem with root_numpy installation"
   ]
  },
  {
   "cell_type": "code",
   "execution_count": 21,
   "metadata": {
    "collapsed": false
   },
   "outputs": [
    {
     "data": {
      "application/javascript": [
       "require(['codemirror/mode/clike/clike'], function(Clike) { console.log('ROOTaaS - C++ CodeMirror module loaded'); });"
      ]
     },
     "metadata": {},
     "output_type": "display_data"
    },
    {
     "data": {
      "application/javascript": [
       "IPython.CodeCell.config_defaults.highlight_modes['magic_text/x-c++src'] = {'reg':[/^%%cpp/]};"
      ]
     },
     "metadata": {},
     "output_type": "display_data"
    },
    {
     "name": "stdout",
     "output_type": "stream",
     "text": [
      "Welcome to ROOTaaS 6.06/04\n"
     ]
    }
   ],
   "source": [
    "import root_numpy"
   ]
  },
  {
   "cell_type": "code",
   "execution_count": 22,
   "metadata": {
    "collapsed": false
   },
   "outputs": [],
   "source": [
    "root_numpy.array2root(dataset.to_records(), 'example.root', treename='data', mode='recreate')"
   ]
  },
  {
   "cell_type": "code",
   "execution_count": 23,
   "metadata": {
    "collapsed": true
   },
   "outputs": [],
   "source": [
    "root_data = root_numpy.root2array('example.root', treename='data', branches=['x', 'y','z'], \n",
    "                                  selection='x > 0.2')"
   ]
  },
  {
   "cell_type": "code",
   "execution_count": 24,
   "metadata": {
    "collapsed": false
   },
   "outputs": [],
   "source": [
    "root_frame = pd.DataFrame(root_data)"
   ]
  },
  {
   "cell_type": "code",
   "execution_count": 25,
   "metadata": {
    "collapsed": false
   },
   "outputs": [
    {
     "data": {
      "text/html": [
       "<div>\n",
       "<table border=\"1\" class=\"dataframe\">\n",
       "  <thead>\n",
       "    <tr style=\"text-align: right;\">\n",
       "      <th></th>\n",
       "      <th>x</th>\n",
       "      <th>y</th>\n",
       "      <th>z</th>\n",
       "    </tr>\n",
       "  </thead>\n",
       "  <tbody>\n",
       "    <tr>\n",
       "      <th>0</th>\n",
       "      <td>0.588253</td>\n",
       "      <td>0.686762</td>\n",
       "      <td>0.212486</td>\n",
       "    </tr>\n",
       "    <tr>\n",
       "      <th>1</th>\n",
       "      <td>0.806773</td>\n",
       "      <td>0.231761</td>\n",
       "      <td>-0.655274</td>\n",
       "    </tr>\n",
       "    <tr>\n",
       "      <th>2</th>\n",
       "      <td>0.940489</td>\n",
       "      <td>0.102007</td>\n",
       "      <td>-1.342225</td>\n",
       "    </tr>\n",
       "    <tr>\n",
       "      <th>3</th>\n",
       "      <td>0.811004</td>\n",
       "      <td>0.479764</td>\n",
       "      <td>0.076544</td>\n",
       "    </tr>\n",
       "    <tr>\n",
       "      <th>4</th>\n",
       "      <td>0.345207</td>\n",
       "      <td>0.728983</td>\n",
       "      <td>0.029103</td>\n",
       "    </tr>\n",
       "  </tbody>\n",
       "</table>\n",
       "</div>"
      ],
      "text/plain": [
       "          x         y         z\n",
       "0  0.588253  0.686762  0.212486\n",
       "1  0.806773  0.231761 -0.655274\n",
       "2  0.940489  0.102007 -1.342225\n",
       "3  0.811004  0.479764  0.076544\n",
       "4  0.345207  0.728983  0.029103"
      ]
     },
     "execution_count": 25,
     "metadata": {},
     "output_type": "execute_result"
    }
   ],
   "source": [
    "root_frame.head()"
   ]
  },
  {
   "cell_type": "code",
   "execution_count": 26,
   "metadata": {
    "collapsed": true
   },
   "outputs": [],
   "source": [
    "import ROOT"
   ]
  },
  {
   "cell_type": "code",
   "execution_count": 27,
   "metadata": {
    "collapsed": true
   },
   "outputs": [],
   "source": [
    "rf = ROOT.TFile.Open('example.root')"
   ]
  },
  {
   "cell_type": "code",
   "execution_count": 28,
   "metadata": {
    "collapsed": true
   },
   "outputs": [],
   "source": [
    "rt = rf.Get('data')"
   ]
  },
  {
   "cell_type": "code",
   "execution_count": 29,
   "metadata": {
    "collapsed": false
   },
   "outputs": [
    {
     "name": "stderr",
     "output_type": "stream",
     "text": [
      "Info in <TCanvas::MakeDefCanvas>:  created default TCanvas with name c1\r\n"
     ]
    }
   ],
   "source": [
    "rt.Draw('x:y')"
   ]
  },
  {
   "cell_type": "code",
   "execution_count": 30,
   "metadata": {
    "collapsed": false
   },
   "outputs": [
    {
     "data": {
      "text/plain": [
       "100L"
      ]
     },
     "execution_count": 30,
     "metadata": {},
     "output_type": "execute_result"
    },
    {
     "name": "stdout",
     "output_type": "stream",
     "text": [
      "************************************\r\n",
      "*    Row   *         x *         y *\r\n",
      "************************************\r\n",
      "*        0 * 0.5882527 * 0.6867623 *\r\n",
      "*        1 * 0.8067732 * 0.2317613 *\r\n",
      "*        2 * 0.9404887 * 0.1020070 *\r\n",
      "*        3 * 0.8110039 * 0.4797643 *\r\n",
      "*        4 * 0.3452067 * 0.7289834 *\r\n",
      "*        5 * 0.5228765 * 0.9005700 *\r\n",
      "*        6 * 0.3993071 * 0.4865308 *\r\n",
      "*        7 * 0.9056273 * 0.1610542 *\r\n",
      "*        8 * 0.7047362 * 0.0010886 *\r\n",
      "*        9 * 0.4092739 * 0.0559971 *\r\n",
      "*       10 * 0.0218082 * 0.3854409 *\r\n",
      "*       11 * 0.8687878 * 0.6902491 *\r\n",
      "*       12 * 0.7483836 * 0.5871596 *\r\n",
      "*       13 * 0.9559283 * 0.1402250 *\r\n",
      "*       14 * 0.0635142 * 0.7486877 *\r\n",
      "*       15 * 0.2121299 * 0.0311492 *\r\n",
      "*       16 * 0.1803885 * 0.0167031 *\r\n",
      "*       17 * 0.5858465 * 0.4222700 *\r\n",
      "*       18 * 0.2560627 * 0.2419947 *\r\n",
      "*       19 * 0.6177526 * 0.7025380 *\r\n",
      "*       20 * 0.4631056 * 0.3651359 *\r\n",
      "*       21 * 0.2663720 * 0.1587541 *\r\n",
      "*       22 * 0.1008671 * 0.3708343 *\r\n",
      "*       23 * 0.6708787 * 0.1404795 *\r\n",
      "*       24 * 0.6069525 * 0.2266608 *\r\n",
      "*       25 * 0.0924407 * 0.0729535 *\r\n",
      "*       26 * 0.5247110 * 0.2159019 *\r\n",
      "*       27 * 0.1609171 * 0.8759986 *\r\n",
      "*       28 * 0.5768801 * 0.6005981 *\r\n",
      "*       29 * 0.2766446 * 0.7164107 *\r\n",
      "*       30 * 0.0825248 * 0.6219951 *\r\n",
      "*       31 * 0.9615795 * 0.4534995 *\r\n",
      "*       32 * 0.6968942 * 0.0389561 *\r\n",
      "*       33 * 0.8214300 * 0.6956701 *\r\n",
      "*       34 * 0.9920452 * 0.9827042 *\r\n",
      "*       35 * 0.5973421 * 0.0464648 *\r\n",
      "*       36 * 0.0576624 * 0.4988750 *\r\n",
      "*       37 * 0.0403728 * 0.1516757 *\r\n",
      "*       38 * 0.9944800 * 0.5102687 *\r\n",
      "*       39 * 0.9964976 * 0.7655000 *\r\n",
      "*       40 * 0.4006128 * 0.7389219 *\r\n",
      "*       41 * 0.0618890 * 0.3559883 *\r\n",
      "*       42 * 0.2769428 * 0.7184667 *\r\n",
      "*       43 * 0.3505503 * 0.2458902 *\r\n",
      "*       44 * 0.8541557 * 0.3406419 *\r\n",
      "*       45 * 0.5837779 * 0.5233337 *\r\n",
      "*       46 * 0.4320465 * 0.5628249 *\r\n",
      "*       47 * 0.5641226 * 0.5092029 *\r\n",
      "*       48 * 0.3326241 * 0.0391436 *\r\n",
      "*       49 * 0.3721830 * 0.7225522 *\r\n",
      "*       50 * 0.8282040 * 0.7942877 *\r\n",
      "*       51 * 0.9927018 * 0.4225986 *\r\n",
      "*       52 * 0.9880738 * 0.0362833 *\r\n",
      "*       53 * 0.4901770 * 0.6228497 *\r\n",
      "*       54 * 0.1722553 * 0.4731080 *\r\n",
      "*       55 * 0.0536107 * 0.9033601 *\r\n",
      "*       56 * 0.6466601 * 0.6208778 *\r\n",
      "*       57 * 0.3449831 * 0.1621234 *\r\n",
      "*       58 * 0.1193131 * 0.1543873 *\r\n",
      "*       59 * 0.3613097 * 0.7100179 *\r\n",
      "*       60 * 0.5658274 * 0.8298549 *\r\n",
      "*       61 * 0.9220962 * 0.3280367 *\r\n",
      "*       62 * 0.1394809 * 0.3737946 *\r\n",
      "*       63 * 0.3846096 * 0.0453423 *\r\n",
      "*       64 * 0.2504596 * 0.0316725 *\r\n",
      "*       65 * 0.7567713 * 0.4622716 *\r\n",
      "*       66 * 0.8777537 * 0.7591001 *\r\n",
      "*       67 * 0.4515049 * 0.5103698 *\r\n",
      "*       68 * 0.2410853 * 0.0693341 *\r\n",
      "*       69 * 0.4363073 * 0.0183586 *\r\n",
      "*       70 * 0.5334130 * 0.7403492 *\r\n",
      "*       71 * 0.8763424 * 0.5970503 *\r\n",
      "*       72 * 0.8554905 * 0.3155978 *\r\n",
      "*       73 * 0.7676334 * 0.9480044 *\r\n",
      "*       74 * 0.3601477 * 0.2552061 *\r\n",
      "*       75 * 0.1338993 * 0.4821199 *\r\n",
      "*       76 * 0.5141123 * 0.2728861 *\r\n",
      "*       77 * 0.7970573 * 0.6722555 *\r\n",
      "*       78 * 0.4185962 * 0.8867995 *\r\n",
      "*       79 * 0.4873059 * 0.1402549 *\r\n",
      "*       80 * 0.3799768 * 0.5472826 *\r\n",
      "*       81 * 0.1977146 * 0.6510768 *\r\n",
      "*       82 * 0.4720739 * 0.7338781 *\r\n",
      "*       83 * 0.4201632 * 0.7658516 *\r\n",
      "*       84 * 0.9267076 * 0.4345541 *\r\n",
      "*       85 * 0.3338477 * 0.7846310 *\r\n",
      "*       86 * 0.7662218 * 0.3569717 *\r\n",
      "*       87 * 0.3868078 * 0.3903697 *\r\n",
      "*       88 * 0.0410231 * 0.5195504 *\r\n",
      "*       89 * 0.4805392 * 0.6346066 *\r\n",
      "*       90 * 0.2463106 * 0.3105300 *\r\n",
      "*       91 * 0.5691840 * 0.9308356 *\r\n",
      "*       92 * 0.6020746 * 0.6054589 *\r\n",
      "*       93 * 0.7120409 * 0.8423865 *\r\n",
      "*       94 * 0.7808552 * 0.6489485 *\r\n",
      "*       95 * 0.1657937 * 0.5187720 *\r\n",
      "*       96 * 0.9648910 * 0.3872888 *\r\n",
      "*       97 * 0.4453434 * 0.5797712 *\r\n",
      "*       98 * 0.9217900 * 0.4377463 *\r\n",
      "*       99 * 0.2673448 * 0.7302806 *\r\n",
      "************************************\r\n"
     ]
    },
    {
     "name": "stderr",
     "output_type": "stream",
     "text": [
      "Type <CR> to continue or q to quit ==> Type <CR> to continue or q to quit ==> Type <CR> to continue or q to quit ==> Type <CR> to continue or q to quit ==> "
     ]
    }
   ],
   "source": [
    "rt.Scan('x:y')"
   ]
  },
  {
   "cell_type": "code",
   "execution_count": 31,
   "metadata": {
    "collapsed": true
   },
   "outputs": [],
   "source": [
    "h = ROOT.TH1F(\"gauss\",\"Example histogram\",100,-4,4)\n",
    "h.FillRandom(\"gaus\")"
   ]
  },
  {
   "cell_type": "code",
   "execution_count": 32,
   "metadata": {
    "collapsed": false
   },
   "outputs": [],
   "source": [
    "\n",
    "\n",
    "c = ROOT.TCanvas(\"myCanvasName\",\"The Canvas Title\",800,600)\n",
    "h.Draw()\n",
    "\n"
   ]
  },
  {
   "cell_type": "code",
   "execution_count": 33,
   "metadata": {
    "collapsed": false
   },
   "outputs": [
    {
     "data": {
      "image/png": "[encoded data removed]",
      "text/plain": [
       "<IPython.core.display.Image object>"
      ]
     },
     "metadata": {},
     "output_type": "display_data"
    }
   ],
   "source": [
    "c.Draw()"
   ]
  },
  {
   "cell_type": "code",
   "execution_count": null,
   "metadata": {
    "collapsed": true
   },
   "outputs": [],
   "source": []
  }
 ],
 "metadata": {
  "kernelspec": {
   "display_name": "Python 2",
   "language": "python",
   "name": "python2"
  },
  "language_info": {
   "codemirror_mode": {
    "name": "ipython",
    "version": 2
   },
   "file_extension": ".py",
   "mimetype": "text/x-python",
   "name": "python",
   "nbconvert_exporter": "python",
   "pygments_lexer": "ipython2",
   "version": "2.7.12"
  }
 },
 "nbformat": 4,
 "nbformat_minor": 0
}
